{
 "cells": [
  {
   "cell_type": "code",
   "execution_count": 1,
   "metadata": {},
   "outputs": [],
   "source": [
    "import pandas as pd\n",
    "import numpy as np"
   ]
  },
  {
   "cell_type": "code",
   "execution_count": 2,
   "metadata": {},
   "outputs": [
    {
     "name": "stdout",
     "output_type": "stream",
     "text": [
      "There are 1485 rows and 4 columns for the draft data\n",
      "There are 5372 rows and 5 columns for the stats data\n"
     ]
    }
   ],
   "source": [
    "# Loading the Data\n",
    "draft = pd.read_csv('draft/draft.csv')\n",
    "stats = pd.read_csv('stats/stats.csv')\n",
    "# Find the number of rows and columns\n",
    "print(f'There are {draft.shape[0]} rows and {draft.shape[1]} columns for the draft data')\n",
    "print(f'There are {stats.shape[0]} rows and {stats.shape[1]} columns for the stats data')"
   ]
  },
  {
   "cell_type": "code",
   "execution_count": 3,
   "metadata": {},
   "outputs": [
    {
     "data": {
      "text/html": [
       "<div>\n",
       "<style scoped>\n",
       "    .dataframe tbody tr th:only-of-type {\n",
       "        vertical-align: middle;\n",
       "    }\n",
       "\n",
       "    .dataframe tbody tr th {\n",
       "        vertical-align: top;\n",
       "    }\n",
       "\n",
       "    .dataframe thead th {\n",
       "        text-align: right;\n",
       "    }\n",
       "</style>\n",
       "<table border=\"1\" class=\"dataframe\">\n",
       "  <thead>\n",
       "    <tr style=\"text-align: right;\">\n",
       "      <th></th>\n",
       "      <th>Pick</th>\n",
       "      <th>Name</th>\n",
       "      <th>Position</th>\n",
       "      <th>Year</th>\n",
       "    </tr>\n",
       "  </thead>\n",
       "  <tbody>\n",
       "    <tr>\n",
       "      <th>0</th>\n",
       "      <td>1</td>\n",
       "      <td>Saquon Barkley</td>\n",
       "      <td>RB</td>\n",
       "      <td>2019</td>\n",
       "    </tr>\n",
       "    <tr>\n",
       "      <th>1</th>\n",
       "      <td>2</td>\n",
       "      <td>Alvin Kamara</td>\n",
       "      <td>RB</td>\n",
       "      <td>2019</td>\n",
       "    </tr>\n",
       "    <tr>\n",
       "      <th>2</th>\n",
       "      <td>3</td>\n",
       "      <td>Christian McCaffrey</td>\n",
       "      <td>RB</td>\n",
       "      <td>2019</td>\n",
       "    </tr>\n",
       "    <tr>\n",
       "      <th>3</th>\n",
       "      <td>4</td>\n",
       "      <td>Ezekiel Elliott</td>\n",
       "      <td>RB</td>\n",
       "      <td>2019</td>\n",
       "    </tr>\n",
       "    <tr>\n",
       "      <th>4</th>\n",
       "      <td>5</td>\n",
       "      <td>James Conner</td>\n",
       "      <td>RB</td>\n",
       "      <td>2019</td>\n",
       "    </tr>\n",
       "    <tr>\n",
       "      <th>...</th>\n",
       "      <td>...</td>\n",
       "      <td>...</td>\n",
       "      <td>...</td>\n",
       "      <td>...</td>\n",
       "    </tr>\n",
       "    <tr>\n",
       "      <th>145</th>\n",
       "      <td>146</td>\n",
       "      <td>Dallas Defense</td>\n",
       "      <td>DEF</td>\n",
       "      <td>2019</td>\n",
       "    </tr>\n",
       "    <tr>\n",
       "      <th>146</th>\n",
       "      <td>147</td>\n",
       "      <td>Carlos Hyde</td>\n",
       "      <td>RB</td>\n",
       "      <td>2019</td>\n",
       "    </tr>\n",
       "    <tr>\n",
       "      <th>147</th>\n",
       "      <td>148</td>\n",
       "      <td>Josh Allen</td>\n",
       "      <td>QB</td>\n",
       "      <td>2019</td>\n",
       "    </tr>\n",
       "    <tr>\n",
       "      <th>148</th>\n",
       "      <td>149</td>\n",
       "      <td>Greg Zuerlein</td>\n",
       "      <td>PK</td>\n",
       "      <td>2019</td>\n",
       "    </tr>\n",
       "    <tr>\n",
       "      <th>149</th>\n",
       "      <td>150</td>\n",
       "      <td>Denver Defense</td>\n",
       "      <td>DEF</td>\n",
       "      <td>2019</td>\n",
       "    </tr>\n",
       "  </tbody>\n",
       "</table>\n",
       "<p>150 rows × 4 columns</p>\n",
       "</div>"
      ],
      "text/plain": [
       "     Pick                 Name Position  Year\n",
       "0       1       Saquon Barkley       RB  2019\n",
       "1       2         Alvin Kamara       RB  2019\n",
       "2       3  Christian McCaffrey       RB  2019\n",
       "3       4      Ezekiel Elliott       RB  2019\n",
       "4       5         James Conner       RB  2019\n",
       "..    ...                  ...      ...   ...\n",
       "145   146       Dallas Defense      DEF  2019\n",
       "146   147          Carlos Hyde       RB  2019\n",
       "147   148           Josh Allen       QB  2019\n",
       "148   149        Greg Zuerlein       PK  2019\n",
       "149   150       Denver Defense      DEF  2019\n",
       "\n",
       "[150 rows x 4 columns]"
      ]
     },
     "execution_count": 3,
     "metadata": {},
     "output_type": "execute_result"
    }
   ],
   "source": [
    "draft.head(150)"
   ]
  },
  {
   "cell_type": "code",
   "execution_count": 4,
   "metadata": {},
   "outputs": [
    {
     "data": {
      "text/html": [
       "<div>\n",
       "<style scoped>\n",
       "    .dataframe tbody tr th:only-of-type {\n",
       "        vertical-align: middle;\n",
       "    }\n",
       "\n",
       "    .dataframe tbody tr th {\n",
       "        vertical-align: top;\n",
       "    }\n",
       "\n",
       "    .dataframe thead th {\n",
       "        text-align: right;\n",
       "    }\n",
       "</style>\n",
       "<table border=\"1\" class=\"dataframe\">\n",
       "  <thead>\n",
       "    <tr style=\"text-align: right;\">\n",
       "      <th></th>\n",
       "      <th>Rank</th>\n",
       "      <th>Name</th>\n",
       "      <th>Position</th>\n",
       "      <th>Points</th>\n",
       "      <th>Year</th>\n",
       "    </tr>\n",
       "  </thead>\n",
       "  <tbody>\n",
       "    <tr>\n",
       "      <th>0</th>\n",
       "      <td>1</td>\n",
       "      <td>Lamar Jackson</td>\n",
       "      <td>QB</td>\n",
       "      <td>421.7</td>\n",
       "      <td>2019</td>\n",
       "    </tr>\n",
       "    <tr>\n",
       "      <th>1</th>\n",
       "      <td>2</td>\n",
       "      <td>Christian McCaffrey</td>\n",
       "      <td>RB</td>\n",
       "      <td>355.2</td>\n",
       "      <td>2019</td>\n",
       "    </tr>\n",
       "    <tr>\n",
       "      <th>2</th>\n",
       "      <td>3</td>\n",
       "      <td>Dak Prescott</td>\n",
       "      <td>QB</td>\n",
       "      <td>348.9</td>\n",
       "      <td>2019</td>\n",
       "    </tr>\n",
       "    <tr>\n",
       "      <th>3</th>\n",
       "      <td>4</td>\n",
       "      <td>Jameis Winston</td>\n",
       "      <td>QB</td>\n",
       "      <td>335.2</td>\n",
       "      <td>2019</td>\n",
       "    </tr>\n",
       "    <tr>\n",
       "      <th>4</th>\n",
       "      <td>5</td>\n",
       "      <td>Russell Wilson</td>\n",
       "      <td>QB</td>\n",
       "      <td>333.5</td>\n",
       "      <td>2019</td>\n",
       "    </tr>\n",
       "    <tr>\n",
       "      <th>...</th>\n",
       "      <td>...</td>\n",
       "      <td>...</td>\n",
       "      <td>...</td>\n",
       "      <td>...</td>\n",
       "      <td>...</td>\n",
       "    </tr>\n",
       "    <tr>\n",
       "      <th>145</th>\n",
       "      <td>145</td>\n",
       "      <td>Philadelphia Eagles</td>\n",
       "      <td>DST</td>\n",
       "      <td>109.0</td>\n",
       "      <td>2019</td>\n",
       "    </tr>\n",
       "    <tr>\n",
       "      <th>146</th>\n",
       "      <td>147</td>\n",
       "      <td>Case Keenum</td>\n",
       "      <td>QB</td>\n",
       "      <td>108.4</td>\n",
       "      <td>2019</td>\n",
       "    </tr>\n",
       "    <tr>\n",
       "      <th>147</th>\n",
       "      <td>148</td>\n",
       "      <td>Dustin Hopkins</td>\n",
       "      <td>K</td>\n",
       "      <td>108.0</td>\n",
       "      <td>2019</td>\n",
       "    </tr>\n",
       "    <tr>\n",
       "      <th>148</th>\n",
       "      <td>148</td>\n",
       "      <td>Green Bay Packers</td>\n",
       "      <td>DST</td>\n",
       "      <td>108.0</td>\n",
       "      <td>2019</td>\n",
       "    </tr>\n",
       "    <tr>\n",
       "      <th>149</th>\n",
       "      <td>150</td>\n",
       "      <td>Jamaal Williams</td>\n",
       "      <td>RB</td>\n",
       "      <td>107.3</td>\n",
       "      <td>2019</td>\n",
       "    </tr>\n",
       "  </tbody>\n",
       "</table>\n",
       "<p>150 rows × 5 columns</p>\n",
       "</div>"
      ],
      "text/plain": [
       "     Rank                 Name Position  Points  Year\n",
       "0       1        Lamar Jackson       QB   421.7  2019\n",
       "1       2  Christian McCaffrey       RB   355.2  2019\n",
       "2       3         Dak Prescott       QB   348.9  2019\n",
       "3       4       Jameis Winston       QB   335.2  2019\n",
       "4       5       Russell Wilson       QB   333.5  2019\n",
       "..    ...                  ...      ...     ...   ...\n",
       "145   145  Philadelphia Eagles      DST   109.0  2019\n",
       "146   147          Case Keenum       QB   108.4  2019\n",
       "147   148       Dustin Hopkins        K   108.0  2019\n",
       "148   148    Green Bay Packers      DST   108.0  2019\n",
       "149   150      Jamaal Williams       RB   107.3  2019\n",
       "\n",
       "[150 rows x 5 columns]"
      ]
     },
     "execution_count": 4,
     "metadata": {},
     "output_type": "execute_result"
    }
   ],
   "source": [
    "stats.head(150)"
   ]
  },
  {
   "cell_type": "code",
   "execution_count": 5,
   "metadata": {},
   "outputs": [],
   "source": [
    "# Replace 'DEF' with 'DST' to be consistent with the stats table.\n",
    "draft['Position'] = draft['Position'].str.replace('DEF', 'DST')"
   ]
  },
  {
   "cell_type": "code",
   "execution_count": 6,
   "metadata": {},
   "outputs": [],
   "source": [
    "# Replace 'K' with 'PK' to be consistent with the stats table.\n",
    "draft['Position'] = draft['Position'].str.replace('PK', 'K')"
   ]
  },
  {
   "cell_type": "code",
   "execution_count": 7,
   "metadata": {},
   "outputs": [],
   "source": [
    "# Replace Team Nickname with 'Defense' to be consistent with the draft table.\n",
    "stats['Name'] = stats['Name'].str.replace('Cardinals', 'Defense')\n",
    "stats['Name'] = stats['Name'].str.replace('Ravens', 'Defense')\n",
    "stats['Name'] = stats['Name'].str.replace('Falcons', 'Defense')\n",
    "stats['Name'] = stats['Name'].str.replace('Bills', 'Defense')\n",
    "stats['Name'] = stats['Name'].str.replace('Panthers', 'Defense')\n",
    "stats['Name'] = stats['Name'].str.replace('Bengals', 'Defense')\n",
    "stats['Name'] = stats['Name'].str.replace('Bears', 'Defense')\n",
    "stats['Name'] = stats['Name'].str.replace('Browns', 'Defense')\n",
    "stats['Name'] = stats['Name'].str.replace('Cowboys', 'Defense')\n",
    "stats['Name'] = stats['Name'].str.replace('Broncos', 'Defense')\n",
    "stats['Name'] = stats['Name'].str.replace('Lions', 'Defense')\n",
    "stats['Name'] = stats['Name'].str.replace('Texans', 'Defense')\n",
    "stats['Name'] = stats['Name'].str.replace('Packers', 'Defense')\n",
    "stats['Name'] = stats['Name'].str.replace('Colts', 'Defense')\n",
    "#stats['Name'] = stats['Name'].str.replace('Rams', 'Defense')\n",
    "stats['Name'] = stats['Name'].str.replace('Jaguars', 'Defense')\n",
    "stats['Name'] = stats['Name'].str.replace('Vikings', 'Defense')\n",
    "stats['Name'] = stats['Name'].str.replace('Chiefs', 'Defense')\n",
    "stats['Name'] = stats['Name'].str.replace('Saints', 'Defense')\n",
    "#stats['Name'] = stats['Name'].str.replace('Raiders', 'Defense')\n",
    "#stats['Name'] = stats['Name'].str.replace('Giants', 'Defense')\n",
    "#stats['Name'] = stats['Name'].str.replace('Chargers', 'Defense')\n",
    "stats['Name'] = stats['Name'].str.replace('Eagles', 'Defense')\n",
    "stats['Name'] = stats['Name'].str.replace('Dolphins', 'Defense')\n",
    "stats['Name'] = stats['Name'].str.replace('49ers', 'Defense')\n",
    "stats['Name'] = stats['Name'].str.replace('Patriots', 'Defense')\n",
    "stats['Name'] = stats['Name'].str.replace('Seahawks', 'Defense')\n",
    "#stats['Name'] = stats['Name'].str.replace('Jets', 'Defense')\n",
    "stats['Name'] = stats['Name'].str.replace('Buccaneers', 'Defense')\n",
    "stats['Name'] = stats['Name'].str.replace('Steelers', 'Defense')\n",
    "stats['Name'] = stats['Name'].str.replace('Football Team', 'Defense')\n",
    "stats['Name'] = stats['Name'].str.replace('Titans', 'Defense')"
   ]
  },
  {
   "cell_type": "code",
   "execution_count": 8,
   "metadata": {},
   "outputs": [],
   "source": [
    "# Replace 'Le'Veon' with 'LeVeon' to be consistent with the draft table.\n",
    "stats['Name'] = stats['Name'].str.replace(\"Le'Veon\", 'LeVeon')"
   ]
  },
  {
   "cell_type": "code",
   "execution_count": 9,
   "metadata": {},
   "outputs": [],
   "source": [
    "# Replace 'Jr.' with 'Jr' to be consistent with the draft table.\n",
    "stats['Name'] = stats['Name'].str.replace('Jr.', 'Jr')"
   ]
  },
  {
   "cell_type": "code",
   "execution_count": 10,
   "metadata": {},
   "outputs": [],
   "source": [
    "# Replace 'Pat Mahomes' with 'Patrick Mahomes' to be consistent with the stats table.\n",
    "draft['Name'] = draft['Name'].str.replace('Pat Mahomes', 'Patrick Mahomes')"
   ]
  },
  {
   "cell_type": "code",
   "execution_count": 11,
   "metadata": {},
   "outputs": [],
   "source": [
    "# Replace 'Mark Ingram II' with 'Mark Ingram' to be consistent with the draft table.\n",
    "stats['Name'] = stats['Name'].str.replace('Mark Ingram II', 'Mark Ingram')"
   ]
  },
  {
   "cell_type": "code",
   "execution_count": 12,
   "metadata": {},
   "outputs": [],
   "source": [
    "# Replace 'LA Rams Defense' from both tables with 'LAR Defense'\n",
    "stats['Name'] = stats['Name'].str.replace('Los Angeles Rams', 'LAR Defense')\n",
    "draft['Name'] = draft['Name'].str.replace('LA Rams Defense', 'LAR Defense')"
   ]
  },
  {
   "cell_type": "code",
   "execution_count": 13,
   "metadata": {},
   "outputs": [],
   "source": [
    "# Replace 'LA Chargers Defense' from both tables with 'LAC Defense'\n",
    "stats['Name'] = stats['Name'].str.replace('Los Angeles Chargers', 'LAC Defense')\n",
    "draft['Name'] = draft['Name'].str.replace('LA Chargers Defense', 'LAC Defense')"
   ]
  },
  {
   "cell_type": "code",
   "execution_count": 14,
   "metadata": {},
   "outputs": [],
   "source": [
    "# Replace 'C.J. Anderson' with 'CJ Anderson' to be consistent with the draft table.\n",
    "stats['Name'] = stats['Name'].str.replace('C.J. Anderson', 'CJ Anderson')"
   ]
  },
  {
   "cell_type": "code",
   "execution_count": 15,
   "metadata": {},
   "outputs": [],
   "source": [
    "# Replace 'Ka'imi' with 'Kaimi' to be consistent with the draft table.\n",
    "stats['Name'] = stats['Name'].str.replace(\"Ka'imi\", 'Kaimi')"
   ]
  },
  {
   "cell_type": "code",
   "execution_count": 16,
   "metadata": {},
   "outputs": [],
   "source": [
    "# Replace 'Robert Kelley' with 'Rob Kelley' to be consistent with the draft table.\n",
    "stats['Name'] = stats['Name'].str.replace('Robert Kelley', 'Rob Kelley')"
   ]
  },
  {
   "cell_type": "code",
   "execution_count": 17,
   "metadata": {},
   "outputs": [],
   "source": [
    "# Replace 'D'Onta' with 'Donta' to be consistent with the draft table.\n",
    "stats['Name'] = stats['Name'].str.replace(\"D'Onta\", 'Donta')"
   ]
  },
  {
   "cell_type": "code",
   "execution_count": 18,
   "metadata": {},
   "outputs": [],
   "source": [
    "# Replace 'T.J. Yeldon' with 'TJ Yeldon' to be consistent with the draft table.\n",
    "stats['Name'] = stats['Name'].str.replace('T.J. Yeldon', 'TJ Yeldon')"
   ]
  },
  {
   "cell_type": "code",
   "execution_count": 19,
   "metadata": {},
   "outputs": [],
   "source": [
    "# Replace 'T.J. Hockenson' on both tables to 'TJ Hockenson'\n",
    "draft['Name'] = draft['Name'].str.replace('T.J. Hockenson', 'TJ Hockenson')\n",
    "stats['Name'] = stats['Name'].str.replace('T.J. Hockenson', 'TJ Hockenson')"
   ]
  },
  {
   "cell_type": "code",
   "execution_count": 20,
   "metadata": {},
   "outputs": [],
   "source": [
    "# Replace 'Ted Ginn' with 'Ted Ginn Jr' to be consistent with the draft table.\n",
    "stats['Name'] = stats['Name'].str.replace('Ted Ginn', 'Ted Ginn Jr')"
   ]
  },
  {
   "cell_type": "code",
   "execution_count": 21,
   "metadata": {},
   "outputs": [],
   "source": [
    "# Replace 'NY Giants Defense' from both tables with 'NYG Defense'\n",
    "stats['Name'] = stats['Name'].str.replace('New York Giants', 'NYG Defense')\n",
    "draft['Name'] = draft['Name'].str.replace('NY Giants Defense', 'NYG Defense')"
   ]
  },
  {
   "cell_type": "code",
   "execution_count": 22,
   "metadata": {},
   "outputs": [],
   "source": [
    "# Replace 'Steven Hauschka' with 'Stephen Hauschka' to be consistent with the stats table.\n",
    "draft['Name'] = draft['Name'].str.replace('Steven Hauschka', 'Stephen Hauschka')"
   ]
  },
  {
   "cell_type": "code",
   "execution_count": 23,
   "metadata": {},
   "outputs": [],
   "source": [
    "# Replace 'NY Jets Defense' from both tables with 'NYJ Defense'\n",
    "stats['Name'] = stats['Name'].str.replace('New York Jets', 'NYJ Defense')\n",
    "draft['Name'] = draft['Name'].str.replace('NY Jets Defense', 'NYJ Defense')"
   ]
  },
  {
   "cell_type": "code",
   "execution_count": 24,
   "metadata": {},
   "outputs": [],
   "source": [
    "# Replace 'Robert Griffin III' with 'Robert Griffin' to be consistent with the stats table.\n",
    "draft['Name'] = draft['Name'].str.replace('Robert Griffin III', 'Robert Griffin')"
   ]
  },
  {
   "cell_type": "code",
   "execution_count": 25,
   "metadata": {},
   "outputs": [],
   "source": [
    "# Replace 'Oakland Defense' from both tables with 'Las Vegas Defense'\n",
    "stats['Name'] = stats['Name'].str.replace('Las Vegas Raiders', 'Las Vegas Defense')\n",
    "draft['Name'] = draft['Name'].str.replace('Oakland Defense', 'Las Vegas Defense')"
   ]
  },
  {
   "cell_type": "code",
   "execution_count": 26,
   "metadata": {},
   "outputs": [],
   "source": [
    "# Replace 'Stevie Johnson' with 'Steve Johnson' to be consistent with the draft table.\n",
    "stats['Name'] = stats['Name'].str.replace('Stevie Johnson', 'Steve Johnson')"
   ]
  },
  {
   "cell_type": "code",
   "execution_count": 27,
   "metadata": {},
   "outputs": [],
   "source": [
    "# Replace 'Chris Beanie Wells' with 'Beanie Wells' to be consistent with the draft table.\n",
    "stats['Name'] = stats['Name'].str.replace('Chris Beanie Wells', 'Beanie Wells')"
   ]
  },
  {
   "cell_type": "code",
   "execution_count": 28,
   "metadata": {},
   "outputs": [],
   "source": [
    "# Replace 'C.J. Prosise' with 'CJ Prosise' to be consistent with the draft table.\n",
    "stats['Name'] = stats['Name'].str.replace('C.J. Prosise', 'CJ Prosise')"
   ]
  },
  {
   "cell_type": "code",
   "execution_count": 29,
   "metadata": {},
   "outputs": [],
   "source": [
    "# Merge the two tables together\n",
    "data = draft.append(stats, ignore_index=True)"
   ]
  },
  {
   "cell_type": "code",
   "execution_count": 30,
   "metadata": {},
   "outputs": [
    {
     "data": {
      "text/plain": [
       "(6857, 6)"
      ]
     },
     "execution_count": 30,
     "metadata": {},
     "output_type": "execute_result"
    }
   ],
   "source": [
    "data.shape"
   ]
  },
  {
   "cell_type": "code",
   "execution_count": 31,
   "metadata": {},
   "outputs": [
    {
     "data": {
      "text/html": [
       "<div>\n",
       "<style scoped>\n",
       "    .dataframe tbody tr th:only-of-type {\n",
       "        vertical-align: middle;\n",
       "    }\n",
       "\n",
       "    .dataframe tbody tr th {\n",
       "        vertical-align: top;\n",
       "    }\n",
       "\n",
       "    .dataframe thead th {\n",
       "        text-align: right;\n",
       "    }\n",
       "</style>\n",
       "<table border=\"1\" class=\"dataframe\">\n",
       "  <thead>\n",
       "    <tr style=\"text-align: right;\">\n",
       "      <th></th>\n",
       "      <th>Pick</th>\n",
       "      <th>Name</th>\n",
       "      <th>Position</th>\n",
       "      <th>Year</th>\n",
       "      <th>Rank</th>\n",
       "      <th>Points</th>\n",
       "    </tr>\n",
       "  </thead>\n",
       "  <tbody>\n",
       "    <tr>\n",
       "      <th>0</th>\n",
       "      <td>1.0</td>\n",
       "      <td>Saquon Barkley</td>\n",
       "      <td>RB</td>\n",
       "      <td>2019</td>\n",
       "      <td>NaN</td>\n",
       "      <td>NaN</td>\n",
       "    </tr>\n",
       "    <tr>\n",
       "      <th>1</th>\n",
       "      <td>2.0</td>\n",
       "      <td>Alvin Kamara</td>\n",
       "      <td>RB</td>\n",
       "      <td>2019</td>\n",
       "      <td>NaN</td>\n",
       "      <td>NaN</td>\n",
       "    </tr>\n",
       "    <tr>\n",
       "      <th>2</th>\n",
       "      <td>3.0</td>\n",
       "      <td>Christian McCaffrey</td>\n",
       "      <td>RB</td>\n",
       "      <td>2019</td>\n",
       "      <td>NaN</td>\n",
       "      <td>NaN</td>\n",
       "    </tr>\n",
       "    <tr>\n",
       "      <th>3</th>\n",
       "      <td>4.0</td>\n",
       "      <td>Ezekiel Elliott</td>\n",
       "      <td>RB</td>\n",
       "      <td>2019</td>\n",
       "      <td>NaN</td>\n",
       "      <td>NaN</td>\n",
       "    </tr>\n",
       "    <tr>\n",
       "      <th>4</th>\n",
       "      <td>5.0</td>\n",
       "      <td>James Conner</td>\n",
       "      <td>RB</td>\n",
       "      <td>2019</td>\n",
       "      <td>NaN</td>\n",
       "      <td>NaN</td>\n",
       "    </tr>\n",
       "  </tbody>\n",
       "</table>\n",
       "</div>"
      ],
      "text/plain": [
       "   Pick                 Name Position  Year  Rank  Points\n",
       "0   1.0       Saquon Barkley       RB  2019   NaN     NaN\n",
       "1   2.0         Alvin Kamara       RB  2019   NaN     NaN\n",
       "2   3.0  Christian McCaffrey       RB  2019   NaN     NaN\n",
       "3   4.0      Ezekiel Elliott       RB  2019   NaN     NaN\n",
       "4   5.0         James Conner       RB  2019   NaN     NaN"
      ]
     },
     "execution_count": 31,
     "metadata": {},
     "output_type": "execute_result"
    }
   ],
   "source": [
    "data.head()"
   ]
  },
  {
   "cell_type": "code",
   "execution_count": 32,
   "metadata": {},
   "outputs": [],
   "source": [
    "# Merge the 'Rank' values in the columns based on 'Name' and 'Year'\n",
    "data['Rank'] = data.groupby(['Name', 'Year', 'Position'])['Rank'].apply(lambda x: x.fillna(x.sum()))"
   ]
  },
  {
   "cell_type": "code",
   "execution_count": 33,
   "metadata": {},
   "outputs": [],
   "source": [
    "# Merge the 'Points' values in the columns based on 'Name' and 'Year'\n",
    "data['Points'] = data.groupby(['Name', 'Year', 'Position'])['Points'].apply(lambda x: x.fillna(x.sum()))"
   ]
  },
  {
   "cell_type": "code",
   "execution_count": 34,
   "metadata": {},
   "outputs": [],
   "source": [
    "# Drop NaN values which are all the extra rows that don't have a draft player involved.\n",
    "data = data.dropna()"
   ]
  },
  {
   "cell_type": "code",
   "execution_count": 35,
   "metadata": {},
   "outputs": [
    {
     "data": {
      "text/plain": [
       "(1485, 6)"
      ]
     },
     "execution_count": 35,
     "metadata": {},
     "output_type": "execute_result"
    }
   ],
   "source": [
    "data.shape"
   ]
  },
  {
   "cell_type": "code",
   "execution_count": 36,
   "metadata": {},
   "outputs": [
    {
     "data": {
      "text/html": [
       "<div>\n",
       "<style scoped>\n",
       "    .dataframe tbody tr th:only-of-type {\n",
       "        vertical-align: middle;\n",
       "    }\n",
       "\n",
       "    .dataframe tbody tr th {\n",
       "        vertical-align: top;\n",
       "    }\n",
       "\n",
       "    .dataframe thead th {\n",
       "        text-align: right;\n",
       "    }\n",
       "</style>\n",
       "<table border=\"1\" class=\"dataframe\">\n",
       "  <thead>\n",
       "    <tr style=\"text-align: right;\">\n",
       "      <th></th>\n",
       "      <th>Pick</th>\n",
       "      <th>Name</th>\n",
       "      <th>Position</th>\n",
       "      <th>Year</th>\n",
       "      <th>Rank</th>\n",
       "      <th>Points</th>\n",
       "    </tr>\n",
       "  </thead>\n",
       "  <tbody>\n",
       "    <tr>\n",
       "      <th>0</th>\n",
       "      <td>1.0</td>\n",
       "      <td>Saquon Barkley</td>\n",
       "      <td>RB</td>\n",
       "      <td>2019</td>\n",
       "      <td>40.0</td>\n",
       "      <td>192.1</td>\n",
       "    </tr>\n",
       "    <tr>\n",
       "      <th>1</th>\n",
       "      <td>2.0</td>\n",
       "      <td>Alvin Kamara</td>\n",
       "      <td>RB</td>\n",
       "      <td>2019</td>\n",
       "      <td>54.0</td>\n",
       "      <td>167.5</td>\n",
       "    </tr>\n",
       "    <tr>\n",
       "      <th>2</th>\n",
       "      <td>3.0</td>\n",
       "      <td>Christian McCaffrey</td>\n",
       "      <td>RB</td>\n",
       "      <td>2019</td>\n",
       "      <td>2.0</td>\n",
       "      <td>355.2</td>\n",
       "    </tr>\n",
       "    <tr>\n",
       "      <th>3</th>\n",
       "      <td>4.0</td>\n",
       "      <td>Ezekiel Elliott</td>\n",
       "      <td>RB</td>\n",
       "      <td>2019</td>\n",
       "      <td>18.0</td>\n",
       "      <td>257.7</td>\n",
       "    </tr>\n",
       "    <tr>\n",
       "      <th>4</th>\n",
       "      <td>5.0</td>\n",
       "      <td>James Conner</td>\n",
       "      <td>RB</td>\n",
       "      <td>2019</td>\n",
       "      <td>139.0</td>\n",
       "      <td>111.5</td>\n",
       "    </tr>\n",
       "    <tr>\n",
       "      <th>...</th>\n",
       "      <td>...</td>\n",
       "      <td>...</td>\n",
       "      <td>...</td>\n",
       "      <td>...</td>\n",
       "      <td>...</td>\n",
       "      <td>...</td>\n",
       "    </tr>\n",
       "    <tr>\n",
       "      <th>1480</th>\n",
       "      <td>141.0</td>\n",
       "      <td>Coby Fleener</td>\n",
       "      <td>TE</td>\n",
       "      <td>2012</td>\n",
       "      <td>307.0</td>\n",
       "      <td>40.1</td>\n",
       "    </tr>\n",
       "    <tr>\n",
       "      <th>1481</th>\n",
       "      <td>142.0</td>\n",
       "      <td>NYJ Defense</td>\n",
       "      <td>DST</td>\n",
       "      <td>2012</td>\n",
       "      <td>103.0</td>\n",
       "      <td>133.0</td>\n",
       "    </tr>\n",
       "    <tr>\n",
       "      <th>1482</th>\n",
       "      <td>143.0</td>\n",
       "      <td>Brent Celek</td>\n",
       "      <td>TE</td>\n",
       "      <td>2012</td>\n",
       "      <td>222.0</td>\n",
       "      <td>72.4</td>\n",
       "    </tr>\n",
       "    <tr>\n",
       "      <th>1483</th>\n",
       "      <td>144.0</td>\n",
       "      <td>Laurent Robinson</td>\n",
       "      <td>WR</td>\n",
       "      <td>2012</td>\n",
       "      <td>370.0</td>\n",
       "      <td>23.2</td>\n",
       "    </tr>\n",
       "    <tr>\n",
       "      <th>1484</th>\n",
       "      <td>145.0</td>\n",
       "      <td>Buffalo Defense</td>\n",
       "      <td>DST</td>\n",
       "      <td>2012</td>\n",
       "      <td>123.0</td>\n",
       "      <td>120.0</td>\n",
       "    </tr>\n",
       "  </tbody>\n",
       "</table>\n",
       "<p>1485 rows × 6 columns</p>\n",
       "</div>"
      ],
      "text/plain": [
       "       Pick                 Name Position  Year   Rank  Points\n",
       "0       1.0       Saquon Barkley       RB  2019   40.0   192.1\n",
       "1       2.0         Alvin Kamara       RB  2019   54.0   167.5\n",
       "2       3.0  Christian McCaffrey       RB  2019    2.0   355.2\n",
       "3       4.0      Ezekiel Elliott       RB  2019   18.0   257.7\n",
       "4       5.0         James Conner       RB  2019  139.0   111.5\n",
       "...     ...                  ...      ...   ...    ...     ...\n",
       "1480  141.0         Coby Fleener       TE  2012  307.0    40.1\n",
       "1481  142.0          NYJ Defense      DST  2012  103.0   133.0\n",
       "1482  143.0          Brent Celek       TE  2012  222.0    72.4\n",
       "1483  144.0     Laurent Robinson       WR  2012  370.0    23.2\n",
       "1484  145.0      Buffalo Defense      DST  2012  123.0   120.0\n",
       "\n",
       "[1485 rows x 6 columns]"
      ]
     },
     "execution_count": 36,
     "metadata": {},
     "output_type": "execute_result"
    }
   ],
   "source": [
    "# Showing the new table of merged data\n",
    "data.head(1485)"
   ]
  },
  {
   "cell_type": "code",
   "execution_count": 37,
   "metadata": {},
   "outputs": [
    {
     "data": {
      "text/html": [
       "<div>\n",
       "<style scoped>\n",
       "    .dataframe tbody tr th:only-of-type {\n",
       "        vertical-align: middle;\n",
       "    }\n",
       "\n",
       "    .dataframe tbody tr th {\n",
       "        vertical-align: top;\n",
       "    }\n",
       "\n",
       "    .dataframe thead th {\n",
       "        text-align: right;\n",
       "    }\n",
       "</style>\n",
       "<table border=\"1\" class=\"dataframe\">\n",
       "  <thead>\n",
       "    <tr style=\"text-align: right;\">\n",
       "      <th></th>\n",
       "      <th>Pick</th>\n",
       "      <th>Name</th>\n",
       "      <th>Position</th>\n",
       "      <th>Year</th>\n",
       "      <th>Rank</th>\n",
       "      <th>Points</th>\n",
       "    </tr>\n",
       "  </thead>\n",
       "  <tbody>\n",
       "    <tr>\n",
       "      <th>194</th>\n",
       "      <td>2.0</td>\n",
       "      <td>LeVeon Bell</td>\n",
       "      <td>RB</td>\n",
       "      <td>2018</td>\n",
       "      <td>0.0</td>\n",
       "      <td>0.0</td>\n",
       "    </tr>\n",
       "    <tr>\n",
       "      <th>225</th>\n",
       "      <td>33.0</td>\n",
       "      <td>Jerick McKinnon</td>\n",
       "      <td>RB</td>\n",
       "      <td>2018</td>\n",
       "      <td>0.0</td>\n",
       "      <td>0.0</td>\n",
       "    </tr>\n",
       "    <tr>\n",
       "      <th>509</th>\n",
       "      <td>100.0</td>\n",
       "      <td>Andrew Luck</td>\n",
       "      <td>QB</td>\n",
       "      <td>2017</td>\n",
       "      <td>0.0</td>\n",
       "      <td>0.0</td>\n",
       "    </tr>\n",
       "    <tr>\n",
       "      <th>558</th>\n",
       "      <td>149.0</td>\n",
       "      <td>Jonathan Williams</td>\n",
       "      <td>RB</td>\n",
       "      <td>2017</td>\n",
       "      <td>0.0</td>\n",
       "      <td>0.0</td>\n",
       "    </tr>\n",
       "    <tr>\n",
       "      <th>581</th>\n",
       "      <td>172.0</td>\n",
       "      <td>Spencer Ware</td>\n",
       "      <td>RB</td>\n",
       "      <td>2017</td>\n",
       "      <td>0.0</td>\n",
       "      <td>0.0</td>\n",
       "    </tr>\n",
       "    <tr>\n",
       "      <th>588</th>\n",
       "      <td>179.0</td>\n",
       "      <td>Joe Williams</td>\n",
       "      <td>RB</td>\n",
       "      <td>2017</td>\n",
       "      <td>0.0</td>\n",
       "      <td>0.0</td>\n",
       "    </tr>\n",
       "    <tr>\n",
       "      <th>609</th>\n",
       "      <td>200.0</td>\n",
       "      <td>Sebastian Janikowski</td>\n",
       "      <td>K</td>\n",
       "      <td>2017</td>\n",
       "      <td>0.0</td>\n",
       "      <td>0.0</td>\n",
       "    </tr>\n",
       "    <tr>\n",
       "      <th>673</th>\n",
       "      <td>53.0</td>\n",
       "      <td>Josh Gordon</td>\n",
       "      <td>WR</td>\n",
       "      <td>2016</td>\n",
       "      <td>0.0</td>\n",
       "      <td>0.0</td>\n",
       "    </tr>\n",
       "    <tr>\n",
       "      <th>876</th>\n",
       "      <td>88.0</td>\n",
       "      <td>Victor Cruz</td>\n",
       "      <td>WR</td>\n",
       "      <td>2015</td>\n",
       "      <td>0.0</td>\n",
       "      <td>0.0</td>\n",
       "    </tr>\n",
       "    <tr>\n",
       "      <th>931</th>\n",
       "      <td>143.0</td>\n",
       "      <td>Breshad Perriman</td>\n",
       "      <td>WR</td>\n",
       "      <td>2015</td>\n",
       "      <td>0.0</td>\n",
       "      <td>0.0</td>\n",
       "    </tr>\n",
       "    <tr>\n",
       "      <th>935</th>\n",
       "      <td>147.0</td>\n",
       "      <td>Ty Montgomery</td>\n",
       "      <td>WR</td>\n",
       "      <td>2015</td>\n",
       "      <td>0.0</td>\n",
       "      <td>0.0</td>\n",
       "    </tr>\n",
       "    <tr>\n",
       "      <th>1034</th>\n",
       "      <td>52.0</td>\n",
       "      <td>Ray Rice</td>\n",
       "      <td>RB</td>\n",
       "      <td>2014</td>\n",
       "      <td>0.0</td>\n",
       "      <td>0.0</td>\n",
       "    </tr>\n",
       "  </tbody>\n",
       "</table>\n",
       "</div>"
      ],
      "text/plain": [
       "       Pick                  Name Position  Year  Rank  Points\n",
       "194     2.0           LeVeon Bell       RB  2018   0.0     0.0\n",
       "225    33.0       Jerick McKinnon       RB  2018   0.0     0.0\n",
       "509   100.0           Andrew Luck       QB  2017   0.0     0.0\n",
       "558   149.0     Jonathan Williams       RB  2017   0.0     0.0\n",
       "581   172.0          Spencer Ware       RB  2017   0.0     0.0\n",
       "588   179.0          Joe Williams       RB  2017   0.0     0.0\n",
       "609   200.0  Sebastian Janikowski        K  2017   0.0     0.0\n",
       "673    53.0           Josh Gordon       WR  2016   0.0     0.0\n",
       "876    88.0           Victor Cruz       WR  2015   0.0     0.0\n",
       "931   143.0      Breshad Perriman       WR  2015   0.0     0.0\n",
       "935   147.0         Ty Montgomery       WR  2015   0.0     0.0\n",
       "1034   52.0              Ray Rice       RB  2014   0.0     0.0"
      ]
     },
     "execution_count": 37,
     "metadata": {},
     "output_type": "execute_result"
    }
   ],
   "source": [
    "# Checking to see if any values are still 0.0 meaning there were different spellings of the Names\n",
    "data.loc[data['Rank'] == 0.0]"
   ]
  },
  {
   "cell_type": "markdown",
   "metadata": {},
   "source": [
    "##### These players left over are players who were drafted, but never played in the season. All the others are replaced so the spelling from the two tables are consistent."
   ]
  },
  {
   "cell_type": "code",
   "execution_count": 38,
   "metadata": {},
   "outputs": [],
   "source": [
    "# Change the Floats in 'Pick' and 'Rank' to Integers\n",
    "data['Pick'] = data['Pick'].astype(int)\n",
    "data['Rank'] = data['Rank'].astype(int)"
   ]
  },
  {
   "cell_type": "code",
   "execution_count": 39,
   "metadata": {
    "scrolled": true
   },
   "outputs": [
    {
     "data": {
      "text/plain": [
       "(1485, 6)"
      ]
     },
     "execution_count": 39,
     "metadata": {},
     "output_type": "execute_result"
    }
   ],
   "source": [
    "data.shape"
   ]
  },
  {
   "cell_type": "markdown",
   "metadata": {},
   "source": [
    "##### We have 1485 rows, but with 12 players in a draft for 15 rounds that equates to 1,440 players being drafted. We are going to drop any players that are outside of the first 180 picks in a draft. "
   ]
  },
  {
   "cell_type": "code",
   "execution_count": 40,
   "metadata": {},
   "outputs": [],
   "source": [
    "# data_1 is going to be the data chart created for the pie graph\n",
    "data_1 = data.drop(data[(data['Pick'] > 180)].index)\n",
    "data_1 = data_1.reset_index(drop=True)"
   ]
  },
  {
   "cell_type": "code",
   "execution_count": 41,
   "metadata": {},
   "outputs": [
    {
     "data": {
      "text/html": [
       "<div>\n",
       "<style scoped>\n",
       "    .dataframe tbody tr th:only-of-type {\n",
       "        vertical-align: middle;\n",
       "    }\n",
       "\n",
       "    .dataframe tbody tr th {\n",
       "        vertical-align: top;\n",
       "    }\n",
       "\n",
       "    .dataframe thead th {\n",
       "        text-align: right;\n",
       "    }\n",
       "</style>\n",
       "<table border=\"1\" class=\"dataframe\">\n",
       "  <thead>\n",
       "    <tr style=\"text-align: right;\">\n",
       "      <th></th>\n",
       "      <th>Pick</th>\n",
       "      <th>Name</th>\n",
       "      <th>Position</th>\n",
       "      <th>Year</th>\n",
       "      <th>Rank</th>\n",
       "      <th>Points</th>\n",
       "    </tr>\n",
       "  </thead>\n",
       "  <tbody>\n",
       "    <tr>\n",
       "      <th>0</th>\n",
       "      <td>1</td>\n",
       "      <td>Saquon Barkley</td>\n",
       "      <td>RB</td>\n",
       "      <td>2019</td>\n",
       "      <td>40</td>\n",
       "      <td>192.1</td>\n",
       "    </tr>\n",
       "    <tr>\n",
       "      <th>1</th>\n",
       "      <td>2</td>\n",
       "      <td>Alvin Kamara</td>\n",
       "      <td>RB</td>\n",
       "      <td>2019</td>\n",
       "      <td>54</td>\n",
       "      <td>167.5</td>\n",
       "    </tr>\n",
       "    <tr>\n",
       "      <th>2</th>\n",
       "      <td>3</td>\n",
       "      <td>Christian McCaffrey</td>\n",
       "      <td>RB</td>\n",
       "      <td>2019</td>\n",
       "      <td>2</td>\n",
       "      <td>355.2</td>\n",
       "    </tr>\n",
       "    <tr>\n",
       "      <th>3</th>\n",
       "      <td>4</td>\n",
       "      <td>Ezekiel Elliott</td>\n",
       "      <td>RB</td>\n",
       "      <td>2019</td>\n",
       "      <td>18</td>\n",
       "      <td>257.7</td>\n",
       "    </tr>\n",
       "    <tr>\n",
       "      <th>4</th>\n",
       "      <td>5</td>\n",
       "      <td>James Conner</td>\n",
       "      <td>RB</td>\n",
       "      <td>2019</td>\n",
       "      <td>139</td>\n",
       "      <td>111.5</td>\n",
       "    </tr>\n",
       "    <tr>\n",
       "      <th>...</th>\n",
       "      <td>...</td>\n",
       "      <td>...</td>\n",
       "      <td>...</td>\n",
       "      <td>...</td>\n",
       "      <td>...</td>\n",
       "      <td>...</td>\n",
       "    </tr>\n",
       "    <tr>\n",
       "      <th>178</th>\n",
       "      <td>179</td>\n",
       "      <td>Deebo Samuel</td>\n",
       "      <td>WR</td>\n",
       "      <td>2019</td>\n",
       "      <td>102</td>\n",
       "      <td>132.1</td>\n",
       "    </tr>\n",
       "    <tr>\n",
       "      <th>179</th>\n",
       "      <td>180</td>\n",
       "      <td>Miles Boykin</td>\n",
       "      <td>WR</td>\n",
       "      <td>2019</td>\n",
       "      <td>320</td>\n",
       "      <td>37.8</td>\n",
       "    </tr>\n",
       "    <tr>\n",
       "      <th>180</th>\n",
       "      <td>1</td>\n",
       "      <td>Todd Gurley</td>\n",
       "      <td>RB</td>\n",
       "      <td>2018</td>\n",
       "      <td>6</td>\n",
       "      <td>313.1</td>\n",
       "    </tr>\n",
       "    <tr>\n",
       "      <th>181</th>\n",
       "      <td>2</td>\n",
       "      <td>LeVeon Bell</td>\n",
       "      <td>RB</td>\n",
       "      <td>2018</td>\n",
       "      <td>0</td>\n",
       "      <td>0.0</td>\n",
       "    </tr>\n",
       "    <tr>\n",
       "      <th>182</th>\n",
       "      <td>3</td>\n",
       "      <td>David Johnson</td>\n",
       "      <td>RB</td>\n",
       "      <td>2018</td>\n",
       "      <td>37</td>\n",
       "      <td>196.7</td>\n",
       "    </tr>\n",
       "  </tbody>\n",
       "</table>\n",
       "<p>183 rows × 6 columns</p>\n",
       "</div>"
      ],
      "text/plain": [
       "     Pick                 Name Position  Year  Rank  Points\n",
       "0       1       Saquon Barkley       RB  2019    40   192.1\n",
       "1       2         Alvin Kamara       RB  2019    54   167.5\n",
       "2       3  Christian McCaffrey       RB  2019     2   355.2\n",
       "3       4      Ezekiel Elliott       RB  2019    18   257.7\n",
       "4       5         James Conner       RB  2019   139   111.5\n",
       "..    ...                  ...      ...   ...   ...     ...\n",
       "178   179         Deebo Samuel       WR  2019   102   132.1\n",
       "179   180         Miles Boykin       WR  2019   320    37.8\n",
       "180     1          Todd Gurley       RB  2018     6   313.1\n",
       "181     2          LeVeon Bell       RB  2018     0     0.0\n",
       "182     3        David Johnson       RB  2018    37   196.7\n",
       "\n",
       "[183 rows x 6 columns]"
      ]
     },
     "execution_count": 41,
     "metadata": {},
     "output_type": "execute_result"
    }
   ],
   "source": [
    "data_1.head(183)"
   ]
  },
  {
   "cell_type": "code",
   "execution_count": 42,
   "metadata": {},
   "outputs": [
    {
     "data": {
      "text/plain": [
       "(1376, 6)"
      ]
     },
     "execution_count": 42,
     "metadata": {},
     "output_type": "execute_result"
    }
   ],
   "source": [
    "data_1.shape"
   ]
  },
  {
   "cell_type": "markdown",
   "metadata": {},
   "source": [
    "##### The reason it's not 1440 is because Year 2012, 2014, and 2016 don't have data up to the 180th pick. The other years do cross that number however. "
   ]
  },
  {
   "cell_type": "markdown",
   "metadata": {},
   "source": [
    "## Pie Chart Visual # 1"
   ]
  },
  {
   "cell_type": "code",
   "execution_count": 43,
   "metadata": {},
   "outputs": [
    {
     "data": {
      "text/plain": [
       "183.49062500000002"
      ]
     },
     "execution_count": 43,
     "metadata": {},
     "output_type": "execute_result"
    }
   ],
   "source": [
    "# Find the median of all the round 1 draft players and get the average fantasy points for that round, across all 8 years. \n",
    "r1 = []\n",
    "for i in range(1,13):\n",
    "    r1.append(data_1.loc[data_1['Pick'] == i, 'Points'].mean())\n",
    "r1 = sum(r1)/12\n",
    "r1"
   ]
  },
  {
   "cell_type": "code",
   "execution_count": 44,
   "metadata": {},
   "outputs": [
    {
     "data": {
      "text/plain": [
       "165.94791666666669"
      ]
     },
     "execution_count": 44,
     "metadata": {},
     "output_type": "execute_result"
    }
   ],
   "source": [
    "# Same thing as before, except for round 2 and so on until round 15\n",
    "r2 = []\n",
    "for i in range(13,25):\n",
    "    r2.append(data_1.loc[data_1['Pick'] == i, 'Points'].mean())\n",
    "r2 = sum(r2)/12\n",
    "r2"
   ]
  },
  {
   "cell_type": "code",
   "execution_count": 45,
   "metadata": {},
   "outputs": [
    {
     "data": {
      "text/plain": [
       "154.53645833333331"
      ]
     },
     "execution_count": 45,
     "metadata": {},
     "output_type": "execute_result"
    }
   ],
   "source": [
    "r3 = []\n",
    "for i in range(25,37):\n",
    "    r3.append(data_1.loc[data_1['Pick'] == i, 'Points'].mean())\n",
    "r3 = sum(r3)/12\n",
    "r3"
   ]
  },
  {
   "cell_type": "code",
   "execution_count": 46,
   "metadata": {},
   "outputs": [
    {
     "data": {
      "text/plain": [
       "130.89374999999998"
      ]
     },
     "execution_count": 46,
     "metadata": {},
     "output_type": "execute_result"
    }
   ],
   "source": [
    "r4 = []\n",
    "for i in range(37,49):\n",
    "    r4.append(data_1.loc[data_1['Pick'] == i, 'Points'].mean())\n",
    "r4 = sum(r4)/12\n",
    "r4"
   ]
  },
  {
   "cell_type": "code",
   "execution_count": 47,
   "metadata": {},
   "outputs": [
    {
     "data": {
      "text/plain": [
       "138.21458333333337"
      ]
     },
     "execution_count": 47,
     "metadata": {},
     "output_type": "execute_result"
    }
   ],
   "source": [
    "r5 = []\n",
    "for i in range(49,61):\n",
    "    r5.append(data_1.loc[data_1['Pick'] == i, 'Points'].mean())\n",
    "r5 = sum(r5)/12\n",
    "r5"
   ]
  },
  {
   "cell_type": "code",
   "execution_count": 48,
   "metadata": {},
   "outputs": [
    {
     "data": {
      "text/plain": [
       "136.45729166666666"
      ]
     },
     "execution_count": 48,
     "metadata": {},
     "output_type": "execute_result"
    }
   ],
   "source": [
    "r6 = []\n",
    "for i in range(61,73):\n",
    "    r6.append(data_1.loc[data_1['Pick'] == i, 'Points'].mean())\n",
    "r6 = sum(r6)/12\n",
    "r6"
   ]
  },
  {
   "cell_type": "code",
   "execution_count": 49,
   "metadata": {},
   "outputs": [
    {
     "data": {
      "text/plain": [
       "116.60312499999999"
      ]
     },
     "execution_count": 49,
     "metadata": {},
     "output_type": "execute_result"
    }
   ],
   "source": [
    "r7 = []\n",
    "for i in range(73,85):\n",
    "    r7.append(data_1.loc[data_1['Pick'] == i, 'Points'].mean())\n",
    "r7 = sum(r7)/12\n",
    "r7"
   ]
  },
  {
   "cell_type": "code",
   "execution_count": 50,
   "metadata": {},
   "outputs": [
    {
     "data": {
      "text/plain": [
       "116.22812499999998"
      ]
     },
     "execution_count": 50,
     "metadata": {},
     "output_type": "execute_result"
    }
   ],
   "source": [
    "r8 = []\n",
    "for i in range(85,97):\n",
    "    r8.append(data_1.loc[data_1['Pick'] == i, 'Points'].mean())\n",
    "r8 = sum(r8)/12\n",
    "r8"
   ]
  },
  {
   "cell_type": "code",
   "execution_count": 51,
   "metadata": {},
   "outputs": [
    {
     "data": {
      "text/plain": [
       "116.65729166666665"
      ]
     },
     "execution_count": 51,
     "metadata": {},
     "output_type": "execute_result"
    }
   ],
   "source": [
    "r9 = []\n",
    "for i in range(97,109):\n",
    "    r9.append(data_1.loc[data_1['Pick'] == i, 'Points'].mean())\n",
    "r9 = sum(r9)/12\n",
    "r9"
   ]
  },
  {
   "cell_type": "code",
   "execution_count": 52,
   "metadata": {},
   "outputs": [
    {
     "data": {
      "text/plain": [
       "129.65208333333337"
      ]
     },
     "execution_count": 52,
     "metadata": {},
     "output_type": "execute_result"
    }
   ],
   "source": [
    "r10 = []\n",
    "for i in range(109,121):\n",
    "    r10.append(data_1.loc[data_1['Pick'] == i, 'Points'].mean())\n",
    "r10 = sum(r10)/12\n",
    "r10"
   ]
  },
  {
   "cell_type": "code",
   "execution_count": 53,
   "metadata": {},
   "outputs": [
    {
     "data": {
      "text/plain": [
       "108.62604166666665"
      ]
     },
     "execution_count": 53,
     "metadata": {},
     "output_type": "execute_result"
    }
   ],
   "source": [
    "r11 = []\n",
    "for i in range(121,133):\n",
    "    r11.append(data_1.loc[data_1['Pick'] == i, 'Points'].mean())\n",
    "r11 = sum(r11)/12\n",
    "r11"
   ]
  },
  {
   "cell_type": "code",
   "execution_count": 54,
   "metadata": {},
   "outputs": [
    {
     "data": {
      "text/plain": [
       "101.44687499999999"
      ]
     },
     "execution_count": 54,
     "metadata": {},
     "output_type": "execute_result"
    }
   ],
   "source": [
    "r12 = []\n",
    "for i in range(133,145):\n",
    "    r12.append(data_1.loc[data_1['Pick'] == i, 'Points'].mean())\n",
    "r12 = sum(r12)/12\n",
    "r12"
   ]
  },
  {
   "cell_type": "code",
   "execution_count": 55,
   "metadata": {},
   "outputs": [
    {
     "data": {
      "text/plain": [
       "110.43482142857142"
      ]
     },
     "execution_count": 55,
     "metadata": {},
     "output_type": "execute_result"
    }
   ],
   "source": [
    "r13 = []\n",
    "for i in range(145,157):\n",
    "    r13.append(data_1.loc[data_1['Pick'] == i, 'Points'].mean())\n",
    "r13 = sum(r13)/12\n",
    "r13"
   ]
  },
  {
   "cell_type": "code",
   "execution_count": 56,
   "metadata": {},
   "outputs": [
    {
     "data": {
      "text/plain": [
       "93.29880952380951"
      ]
     },
     "execution_count": 56,
     "metadata": {},
     "output_type": "execute_result"
    }
   ],
   "source": [
    "r14 = []\n",
    "for i in range(157,169):\n",
    "    r14.append(data_1.loc[data_1['Pick'] == i, 'Points'].mean())\n",
    "r14 = sum(r14)/12\n",
    "r14"
   ]
  },
  {
   "cell_type": "code",
   "execution_count": 57,
   "metadata": {
    "scrolled": true
   },
   "outputs": [
    {
     "data": {
      "text/plain": [
       "98.93333333333334"
      ]
     },
     "execution_count": 57,
     "metadata": {},
     "output_type": "execute_result"
    }
   ],
   "source": [
    "r15 = []\n",
    "for i in range(169,181):\n",
    "    r15.append(data_1.loc[data_1['Pick'] == i, 'Points'].mean())\n",
    "r15 = sum(r15)/12\n",
    "r15"
   ]
  },
  {
   "cell_type": "code",
   "execution_count": 58,
   "metadata": {},
   "outputs": [
    {
     "data": {
      "text/html": [
       "<div>\n",
       "<style scoped>\n",
       "    .dataframe tbody tr th:only-of-type {\n",
       "        vertical-align: middle;\n",
       "    }\n",
       "\n",
       "    .dataframe tbody tr th {\n",
       "        vertical-align: top;\n",
       "    }\n",
       "\n",
       "    .dataframe thead th {\n",
       "        text-align: right;\n",
       "    }\n",
       "</style>\n",
       "<table border=\"1\" class=\"dataframe\">\n",
       "  <thead>\n",
       "    <tr style=\"text-align: right;\">\n",
       "      <th></th>\n",
       "      <th>Draft Round</th>\n",
       "      <th>Avg Fantasy Points</th>\n",
       "    </tr>\n",
       "  </thead>\n",
       "  <tbody>\n",
       "    <tr>\n",
       "      <th>0</th>\n",
       "      <td>Round 1</td>\n",
       "      <td>183.6</td>\n",
       "    </tr>\n",
       "    <tr>\n",
       "      <th>1</th>\n",
       "      <td>Round 2</td>\n",
       "      <td>165.9</td>\n",
       "    </tr>\n",
       "    <tr>\n",
       "      <th>2</th>\n",
       "      <td>Round 3</td>\n",
       "      <td>154.5</td>\n",
       "    </tr>\n",
       "    <tr>\n",
       "      <th>3</th>\n",
       "      <td>Round 4</td>\n",
       "      <td>130.9</td>\n",
       "    </tr>\n",
       "    <tr>\n",
       "      <th>4</th>\n",
       "      <td>Round 5</td>\n",
       "      <td>138.2</td>\n",
       "    </tr>\n",
       "    <tr>\n",
       "      <th>5</th>\n",
       "      <td>Round 6</td>\n",
       "      <td>136.5</td>\n",
       "    </tr>\n",
       "    <tr>\n",
       "      <th>6</th>\n",
       "      <td>Round 7</td>\n",
       "      <td>116.6</td>\n",
       "    </tr>\n",
       "    <tr>\n",
       "      <th>7</th>\n",
       "      <td>Round 8</td>\n",
       "      <td>116.2</td>\n",
       "    </tr>\n",
       "    <tr>\n",
       "      <th>8</th>\n",
       "      <td>Round 9</td>\n",
       "      <td>116.7</td>\n",
       "    </tr>\n",
       "    <tr>\n",
       "      <th>9</th>\n",
       "      <td>Round 10</td>\n",
       "      <td>129.7</td>\n",
       "    </tr>\n",
       "    <tr>\n",
       "      <th>10</th>\n",
       "      <td>Round 11</td>\n",
       "      <td>108.6</td>\n",
       "    </tr>\n",
       "    <tr>\n",
       "      <th>11</th>\n",
       "      <td>Round 12</td>\n",
       "      <td>101.4</td>\n",
       "    </tr>\n",
       "    <tr>\n",
       "      <th>12</th>\n",
       "      <td>Round 13</td>\n",
       "      <td>110.8</td>\n",
       "    </tr>\n",
       "    <tr>\n",
       "      <th>13</th>\n",
       "      <td>Round 14</td>\n",
       "      <td>93.3</td>\n",
       "    </tr>\n",
       "    <tr>\n",
       "      <th>14</th>\n",
       "      <td>Round 15</td>\n",
       "      <td>99.1</td>\n",
       "    </tr>\n",
       "  </tbody>\n",
       "</table>\n",
       "</div>"
      ],
      "text/plain": [
       "   Draft Round Avg Fantasy Points\n",
       "0      Round 1              183.6\n",
       "1      Round 2              165.9\n",
       "2      Round 3              154.5\n",
       "3      Round 4              130.9\n",
       "4      Round 5              138.2\n",
       "5      Round 6              136.5\n",
       "6      Round 7              116.6\n",
       "7      Round 8              116.2\n",
       "8      Round 9              116.7\n",
       "9     Round 10              129.7\n",
       "10    Round 11              108.6\n",
       "11    Round 12              101.4\n",
       "12    Round 13              110.8\n",
       "13    Round 14               93.3\n",
       "14    Round 15               99.1"
      ]
     },
     "execution_count": 58,
     "metadata": {},
     "output_type": "execute_result"
    }
   ],
   "source": [
    "# Create a table to export for the pie chart\n",
    "pie = {'Draft Round': ['Round 1', 'Round 2', 'Round 3', 'Round 4', 'Round 5', 'Round 6', 'Round 7', 'Round 8', \n",
    "                'Round 9', 'Round 10', 'Round 11', 'Round 12', 'Round 13', 'Round 14', 'Round 15'],\n",
    "      'Avg Fantasy Points': ['183.6', '165.9', '154.5', '130.9', '138.2', '136.5', '116.6', '116.2',\n",
    "                             '116.7', '129.7', '108.6', '101.4', '110.8', '93.3', '99.1']\n",
    "      }\n",
    "pie = pd.DataFrame(pie, columns = ['Draft Round', 'Avg Fantasy Points'])\n",
    "pie"
   ]
  },
  {
   "cell_type": "code",
   "execution_count": 59,
   "metadata": {},
   "outputs": [],
   "source": [
    "# Export the table to a csv file\n",
    "pie.to_csv('Pie Chart.csv', index=False)"
   ]
  },
  {
   "cell_type": "markdown",
   "metadata": {},
   "source": [
    "## Visual # 2"
   ]
  },
  {
   "cell_type": "markdown",
   "metadata": {},
   "source": [
    "##### In order to do this visual, need the players grouped by position. The charts need to be made for the RB, WR, QB, TE, K and DEF positions. "
   ]
  },
  {
   "cell_type": "code",
   "execution_count": 60,
   "metadata": {},
   "outputs": [
    {
     "data": {
      "text/html": [
       "<div>\n",
       "<style scoped>\n",
       "    .dataframe tbody tr th:only-of-type {\n",
       "        vertical-align: middle;\n",
       "    }\n",
       "\n",
       "    .dataframe tbody tr th {\n",
       "        vertical-align: top;\n",
       "    }\n",
       "\n",
       "    .dataframe thead th {\n",
       "        text-align: right;\n",
       "    }\n",
       "</style>\n",
       "<table border=\"1\" class=\"dataframe\">\n",
       "  <thead>\n",
       "    <tr style=\"text-align: right;\">\n",
       "      <th></th>\n",
       "      <th>Pick</th>\n",
       "      <th>Name</th>\n",
       "      <th>Position</th>\n",
       "      <th>Year</th>\n",
       "      <th>Rank</th>\n",
       "      <th>Points</th>\n",
       "    </tr>\n",
       "  </thead>\n",
       "  <tbody>\n",
       "    <tr>\n",
       "      <th>0</th>\n",
       "      <td>1</td>\n",
       "      <td>Saquon Barkley</td>\n",
       "      <td>RB</td>\n",
       "      <td>2019</td>\n",
       "      <td>40</td>\n",
       "      <td>192.1</td>\n",
       "    </tr>\n",
       "    <tr>\n",
       "      <th>1</th>\n",
       "      <td>2</td>\n",
       "      <td>Alvin Kamara</td>\n",
       "      <td>RB</td>\n",
       "      <td>2019</td>\n",
       "      <td>54</td>\n",
       "      <td>167.5</td>\n",
       "    </tr>\n",
       "    <tr>\n",
       "      <th>2</th>\n",
       "      <td>3</td>\n",
       "      <td>Christian McCaffrey</td>\n",
       "      <td>RB</td>\n",
       "      <td>2019</td>\n",
       "      <td>2</td>\n",
       "      <td>355.2</td>\n",
       "    </tr>\n",
       "    <tr>\n",
       "      <th>3</th>\n",
       "      <td>4</td>\n",
       "      <td>Ezekiel Elliott</td>\n",
       "      <td>RB</td>\n",
       "      <td>2019</td>\n",
       "      <td>18</td>\n",
       "      <td>257.7</td>\n",
       "    </tr>\n",
       "    <tr>\n",
       "      <th>4</th>\n",
       "      <td>5</td>\n",
       "      <td>James Conner</td>\n",
       "      <td>RB</td>\n",
       "      <td>2019</td>\n",
       "      <td>139</td>\n",
       "      <td>111.5</td>\n",
       "    </tr>\n",
       "    <tr>\n",
       "      <th>...</th>\n",
       "      <td>...</td>\n",
       "      <td>...</td>\n",
       "      <td>...</td>\n",
       "      <td>...</td>\n",
       "      <td>...</td>\n",
       "      <td>...</td>\n",
       "    </tr>\n",
       "    <tr>\n",
       "      <th>1366</th>\n",
       "      <td>136</td>\n",
       "      <td>Alfred Morris</td>\n",
       "      <td>RB</td>\n",
       "      <td>2012</td>\n",
       "      <td>18</td>\n",
       "      <td>240.3</td>\n",
       "    </tr>\n",
       "    <tr>\n",
       "      <th>1367</th>\n",
       "      <td>137</td>\n",
       "      <td>NYG Defense</td>\n",
       "      <td>DST</td>\n",
       "      <td>2012</td>\n",
       "      <td>82</td>\n",
       "      <td>148.0</td>\n",
       "    </tr>\n",
       "    <tr>\n",
       "      <th>1368</th>\n",
       "      <td>138</td>\n",
       "      <td>Jonathan Dwyer</td>\n",
       "      <td>RB</td>\n",
       "      <td>2012</td>\n",
       "      <td>208</td>\n",
       "      <td>80.9</td>\n",
       "    </tr>\n",
       "    <tr>\n",
       "      <th>1369</th>\n",
       "      <td>139</td>\n",
       "      <td>Evan Royster</td>\n",
       "      <td>RB</td>\n",
       "      <td>2012</td>\n",
       "      <td>335</td>\n",
       "      <td>31.7</td>\n",
       "    </tr>\n",
       "    <tr>\n",
       "      <th>1370</th>\n",
       "      <td>140</td>\n",
       "      <td>Jerome Simpson</td>\n",
       "      <td>WR</td>\n",
       "      <td>2012</td>\n",
       "      <td>365</td>\n",
       "      <td>25.4</td>\n",
       "    </tr>\n",
       "  </tbody>\n",
       "</table>\n",
       "<p>1371 rows × 6 columns</p>\n",
       "</div>"
      ],
      "text/plain": [
       "      Pick                 Name Position  Year  Rank  Points\n",
       "0        1       Saquon Barkley       RB  2019    40   192.1\n",
       "1        2         Alvin Kamara       RB  2019    54   167.5\n",
       "2        3  Christian McCaffrey       RB  2019     2   355.2\n",
       "3        4      Ezekiel Elliott       RB  2019    18   257.7\n",
       "4        5         James Conner       RB  2019   139   111.5\n",
       "...    ...                  ...      ...   ...   ...     ...\n",
       "1366   136        Alfred Morris       RB  2012    18   240.3\n",
       "1367   137          NYG Defense      DST  2012    82   148.0\n",
       "1368   138       Jonathan Dwyer       RB  2012   208    80.9\n",
       "1369   139         Evan Royster       RB  2012   335    31.7\n",
       "1370   140       Jerome Simpson       WR  2012   365    25.4\n",
       "\n",
       "[1371 rows x 6 columns]"
      ]
     },
     "execution_count": 60,
     "metadata": {},
     "output_type": "execute_result"
    }
   ],
   "source": [
    "data_1.head(-5)"
   ]
  },
  {
   "cell_type": "code",
   "execution_count": 61,
   "metadata": {},
   "outputs": [],
   "source": [
    "# Only keep the rows that have 'RB' in their position\n",
    "rb_data = data_1[data_1.Position == 'RB']\n",
    "# Create a rank of the players based on there Points\n",
    "rb_data = rb_data.sort_values(by=['Points'], ascending = False)"
   ]
  },
  {
   "cell_type": "code",
   "execution_count": 62,
   "metadata": {},
   "outputs": [
    {
     "data": {
      "text/html": [
       "<div>\n",
       "<style scoped>\n",
       "    .dataframe tbody tr th:only-of-type {\n",
       "        vertical-align: middle;\n",
       "    }\n",
       "\n",
       "    .dataframe tbody tr th {\n",
       "        vertical-align: top;\n",
       "    }\n",
       "\n",
       "    .dataframe thead th {\n",
       "        text-align: right;\n",
       "    }\n",
       "</style>\n",
       "<table border=\"1\" class=\"dataframe\">\n",
       "  <thead>\n",
       "    <tr style=\"text-align: right;\">\n",
       "      <th></th>\n",
       "      <th>Pick</th>\n",
       "      <th>Name</th>\n",
       "      <th>Position</th>\n",
       "      <th>Year</th>\n",
       "      <th>Rank</th>\n",
       "      <th>Points</th>\n",
       "    </tr>\n",
       "  </thead>\n",
       "  <tbody>\n",
       "    <tr>\n",
       "      <th>2</th>\n",
       "      <td>3</td>\n",
       "      <td>Christian McCaffrey</td>\n",
       "      <td>RB</td>\n",
       "      <td>2019</td>\n",
       "      <td>2</td>\n",
       "      <td>355.2</td>\n",
       "    </tr>\n",
       "    <tr>\n",
       "      <th>544</th>\n",
       "      <td>5</td>\n",
       "      <td>David Johnson</td>\n",
       "      <td>RB</td>\n",
       "      <td>2016</td>\n",
       "      <td>4</td>\n",
       "      <td>327.8</td>\n",
       "    </tr>\n",
       "    <tr>\n",
       "      <th>376</th>\n",
       "      <td>17</td>\n",
       "      <td>Todd Gurley</td>\n",
       "      <td>RB</td>\n",
       "      <td>2017</td>\n",
       "      <td>2</td>\n",
       "      <td>319.3</td>\n",
       "    </tr>\n",
       "    <tr>\n",
       "      <th>180</th>\n",
       "      <td>1</td>\n",
       "      <td>Todd Gurley</td>\n",
       "      <td>RB</td>\n",
       "      <td>2018</td>\n",
       "      <td>6</td>\n",
       "      <td>313.1</td>\n",
       "    </tr>\n",
       "    <tr>\n",
       "      <th>1053</th>\n",
       "      <td>3</td>\n",
       "      <td>Jamaal Charles</td>\n",
       "      <td>RB</td>\n",
       "      <td>2013</td>\n",
       "      <td>3</td>\n",
       "      <td>308.1</td>\n",
       "    </tr>\n",
       "    <tr>\n",
       "      <th>...</th>\n",
       "      <td>...</td>\n",
       "      <td>...</td>\n",
       "      <td>...</td>\n",
       "      <td>...</td>\n",
       "      <td>...</td>\n",
       "      <td>...</td>\n",
       "    </tr>\n",
       "    <tr>\n",
       "      <th>939</th>\n",
       "      <td>52</td>\n",
       "      <td>Ray Rice</td>\n",
       "      <td>RB</td>\n",
       "      <td>2014</td>\n",
       "      <td>0</td>\n",
       "      <td>0.0</td>\n",
       "    </tr>\n",
       "    <tr>\n",
       "      <th>212</th>\n",
       "      <td>33</td>\n",
       "      <td>Jerick McKinnon</td>\n",
       "      <td>RB</td>\n",
       "      <td>2018</td>\n",
       "      <td>0</td>\n",
       "      <td>0.0</td>\n",
       "    </tr>\n",
       "    <tr>\n",
       "      <th>508</th>\n",
       "      <td>149</td>\n",
       "      <td>Jonathan Williams</td>\n",
       "      <td>RB</td>\n",
       "      <td>2017</td>\n",
       "      <td>0</td>\n",
       "      <td>0.0</td>\n",
       "    </tr>\n",
       "    <tr>\n",
       "      <th>538</th>\n",
       "      <td>179</td>\n",
       "      <td>Joe Williams</td>\n",
       "      <td>RB</td>\n",
       "      <td>2017</td>\n",
       "      <td>0</td>\n",
       "      <td>0.0</td>\n",
       "    </tr>\n",
       "    <tr>\n",
       "      <th>425</th>\n",
       "      <td>66</td>\n",
       "      <td>Darren McFadden</td>\n",
       "      <td>RB</td>\n",
       "      <td>2017</td>\n",
       "      <td>636</td>\n",
       "      <td>-0.2</td>\n",
       "    </tr>\n",
       "  </tbody>\n",
       "</table>\n",
       "<p>462 rows × 6 columns</p>\n",
       "</div>"
      ],
      "text/plain": [
       "      Pick                 Name Position  Year  Rank  Points\n",
       "2        3  Christian McCaffrey       RB  2019     2   355.2\n",
       "544      5        David Johnson       RB  2016     4   327.8\n",
       "376     17          Todd Gurley       RB  2017     2   319.3\n",
       "180      1          Todd Gurley       RB  2018     6   313.1\n",
       "1053     3       Jamaal Charles       RB  2013     3   308.1\n",
       "...    ...                  ...      ...   ...   ...     ...\n",
       "939     52             Ray Rice       RB  2014     0     0.0\n",
       "212     33      Jerick McKinnon       RB  2018     0     0.0\n",
       "508    149    Jonathan Williams       RB  2017     0     0.0\n",
       "538    179         Joe Williams       RB  2017     0     0.0\n",
       "425     66      Darren McFadden       RB  2017   636    -0.2\n",
       "\n",
       "[462 rows x 6 columns]"
      ]
     },
     "execution_count": 62,
     "metadata": {},
     "output_type": "execute_result"
    }
   ],
   "source": [
    "rb_data.head(463)"
   ]
  },
  {
   "cell_type": "code",
   "execution_count": 63,
   "metadata": {},
   "outputs": [],
   "source": [
    "# Do the same to the remaining positions\n",
    "wr_data = data_1[data_1.Position == 'WR']\n",
    "wr_data = wr_data.sort_values(by=['Points'], ascending = False)"
   ]
  },
  {
   "cell_type": "code",
   "execution_count": 64,
   "metadata": {},
   "outputs": [
    {
     "data": {
      "text/html": [
       "<div>\n",
       "<style scoped>\n",
       "    .dataframe tbody tr th:only-of-type {\n",
       "        vertical-align: middle;\n",
       "    }\n",
       "\n",
       "    .dataframe tbody tr th {\n",
       "        vertical-align: top;\n",
       "    }\n",
       "\n",
       "    .dataframe thead th {\n",
       "        text-align: right;\n",
       "    }\n",
       "</style>\n",
       "<table border=\"1\" class=\"dataframe\">\n",
       "  <thead>\n",
       "    <tr style=\"text-align: right;\">\n",
       "      <th></th>\n",
       "      <th>Pick</th>\n",
       "      <th>Name</th>\n",
       "      <th>Position</th>\n",
       "      <th>Year</th>\n",
       "      <th>Rank</th>\n",
       "      <th>Points</th>\n",
       "    </tr>\n",
       "  </thead>\n",
       "  <tbody>\n",
       "    <tr>\n",
       "      <th>910</th>\n",
       "      <td>23</td>\n",
       "      <td>Antonio Brown</td>\n",
       "      <td>WR</td>\n",
       "      <td>2014</td>\n",
       "      <td>18</td>\n",
       "      <td>251.9</td>\n",
       "    </tr>\n",
       "    <tr>\n",
       "      <th>713</th>\n",
       "      <td>6</td>\n",
       "      <td>Antonio Brown</td>\n",
       "      <td>WR</td>\n",
       "      <td>2015</td>\n",
       "      <td>18</td>\n",
       "      <td>246.2</td>\n",
       "    </tr>\n",
       "    <tr>\n",
       "      <th>206</th>\n",
       "      <td>27</td>\n",
       "      <td>Tyreek Hill</td>\n",
       "      <td>WR</td>\n",
       "      <td>2018</td>\n",
       "      <td>21</td>\n",
       "      <td>241.0</td>\n",
       "    </tr>\n",
       "    <tr>\n",
       "      <th>716</th>\n",
       "      <td>9</td>\n",
       "      <td>Julio Jones</td>\n",
       "      <td>WR</td>\n",
       "      <td>2015</td>\n",
       "      <td>21</td>\n",
       "      <td>239.1</td>\n",
       "    </tr>\n",
       "    <tr>\n",
       "      <th>758</th>\n",
       "      <td>51</td>\n",
       "      <td>Brandon Marshall</td>\n",
       "      <td>WR</td>\n",
       "      <td>2015</td>\n",
       "      <td>24</td>\n",
       "      <td>230.2</td>\n",
       "    </tr>\n",
       "  </tbody>\n",
       "</table>\n",
       "</div>"
      ],
      "text/plain": [
       "     Pick              Name Position  Year  Rank  Points\n",
       "910    23     Antonio Brown       WR  2014    18   251.9\n",
       "713     6     Antonio Brown       WR  2015    18   246.2\n",
       "206    27       Tyreek Hill       WR  2018    21   241.0\n",
       "716     9       Julio Jones       WR  2015    21   239.1\n",
       "758    51  Brandon Marshall       WR  2015    24   230.2"
      ]
     },
     "execution_count": 64,
     "metadata": {},
     "output_type": "execute_result"
    }
   ],
   "source": [
    "wr_data.head()"
   ]
  },
  {
   "cell_type": "code",
   "execution_count": 65,
   "metadata": {},
   "outputs": [],
   "source": [
    "qb_data = data_1[data_1.Position == 'QB']\n",
    "qb_data = qb_data.sort_values(by=['Points'], ascending = False)"
   ]
  },
  {
   "cell_type": "code",
   "execution_count": 66,
   "metadata": {},
   "outputs": [
    {
     "data": {
      "text/html": [
       "<div>\n",
       "<style scoped>\n",
       "    .dataframe tbody tr th:only-of-type {\n",
       "        vertical-align: middle;\n",
       "    }\n",
       "\n",
       "    .dataframe tbody tr th {\n",
       "        vertical-align: top;\n",
       "    }\n",
       "\n",
       "    .dataframe thead th {\n",
       "        text-align: right;\n",
       "    }\n",
       "</style>\n",
       "<table border=\"1\" class=\"dataframe\">\n",
       "  <thead>\n",
       "    <tr style=\"text-align: right;\">\n",
       "      <th></th>\n",
       "      <th>Pick</th>\n",
       "      <th>Name</th>\n",
       "      <th>Position</th>\n",
       "      <th>Year</th>\n",
       "      <th>Rank</th>\n",
       "      <th>Points</th>\n",
       "    </tr>\n",
       "  </thead>\n",
       "  <tbody>\n",
       "    <tr>\n",
       "      <th>90</th>\n",
       "      <td>91</td>\n",
       "      <td>Lamar Jackson</td>\n",
       "      <td>QB</td>\n",
       "      <td>2019</td>\n",
       "      <td>1</td>\n",
       "      <td>421.7</td>\n",
       "    </tr>\n",
       "    <tr>\n",
       "      <th>297</th>\n",
       "      <td>118</td>\n",
       "      <td>Patrick Mahomes</td>\n",
       "      <td>QB</td>\n",
       "      <td>2018</td>\n",
       "      <td>1</td>\n",
       "      <td>417.0</td>\n",
       "    </tr>\n",
       "    <tr>\n",
       "      <th>1083</th>\n",
       "      <td>33</td>\n",
       "      <td>Peyton Manning</td>\n",
       "      <td>QB</td>\n",
       "      <td>2013</td>\n",
       "      <td>1</td>\n",
       "      <td>410.1</td>\n",
       "    </tr>\n",
       "    <tr>\n",
       "      <th>827</th>\n",
       "      <td>120</td>\n",
       "      <td>Cam Newton</td>\n",
       "      <td>QB</td>\n",
       "      <td>2015</td>\n",
       "      <td>1</td>\n",
       "      <td>389.1</td>\n",
       "    </tr>\n",
       "    <tr>\n",
       "      <th>572</th>\n",
       "      <td>33</td>\n",
       "      <td>Aaron Rodgers</td>\n",
       "      <td>QB</td>\n",
       "      <td>2016</td>\n",
       "      <td>1</td>\n",
       "      <td>380.0</td>\n",
       "    </tr>\n",
       "  </tbody>\n",
       "</table>\n",
       "</div>"
      ],
      "text/plain": [
       "      Pick             Name Position  Year  Rank  Points\n",
       "90      91    Lamar Jackson       QB  2019     1   421.7\n",
       "297    118  Patrick Mahomes       QB  2018     1   417.0\n",
       "1083    33   Peyton Manning       QB  2013     1   410.1\n",
       "827    120       Cam Newton       QB  2015     1   389.1\n",
       "572     33    Aaron Rodgers       QB  2016     1   380.0"
      ]
     },
     "execution_count": 66,
     "metadata": {},
     "output_type": "execute_result"
    }
   ],
   "source": [
    "qb_data.head()"
   ]
  },
  {
   "cell_type": "code",
   "execution_count": 67,
   "metadata": {},
   "outputs": [],
   "source": [
    "te_data = data_1[data_1.Position == 'TE']\n",
    "te_data = te_data.sort_values(by=['Points'], ascending = False)"
   ]
  },
  {
   "cell_type": "code",
   "execution_count": 68,
   "metadata": {},
   "outputs": [
    {
     "data": {
      "text/html": [
       "<div>\n",
       "<style scoped>\n",
       "    .dataframe tbody tr th:only-of-type {\n",
       "        vertical-align: middle;\n",
       "    }\n",
       "\n",
       "    .dataframe tbody tr th {\n",
       "        vertical-align: top;\n",
       "    }\n",
       "\n",
       "    .dataframe thead th {\n",
       "        text-align: right;\n",
       "    }\n",
       "</style>\n",
       "<table border=\"1\" class=\"dataframe\">\n",
       "  <thead>\n",
       "    <tr style=\"text-align: right;\">\n",
       "      <th></th>\n",
       "      <th>Pick</th>\n",
       "      <th>Name</th>\n",
       "      <th>Position</th>\n",
       "      <th>Year</th>\n",
       "      <th>Rank</th>\n",
       "      <th>Points</th>\n",
       "    </tr>\n",
       "  </thead>\n",
       "  <tbody>\n",
       "    <tr>\n",
       "      <th>1073</th>\n",
       "      <td>23</td>\n",
       "      <td>Jimmy Graham</td>\n",
       "      <td>TE</td>\n",
       "      <td>2013</td>\n",
       "      <td>26</td>\n",
       "      <td>217.5</td>\n",
       "    </tr>\n",
       "    <tr>\n",
       "      <th>213</th>\n",
       "      <td>34</td>\n",
       "      <td>Travis Kelce</td>\n",
       "      <td>TE</td>\n",
       "      <td>2018</td>\n",
       "      <td>41</td>\n",
       "      <td>191.6</td>\n",
       "    </tr>\n",
       "    <tr>\n",
       "      <th>918</th>\n",
       "      <td>31</td>\n",
       "      <td>Rob Gronkowski</td>\n",
       "      <td>TE</td>\n",
       "      <td>2014</td>\n",
       "      <td>40</td>\n",
       "      <td>184.4</td>\n",
       "    </tr>\n",
       "    <tr>\n",
       "      <th>720</th>\n",
       "      <td>13</td>\n",
       "      <td>Rob Gronkowski</td>\n",
       "      <td>TE</td>\n",
       "      <td>2015</td>\n",
       "      <td>41</td>\n",
       "      <td>183.6</td>\n",
       "    </tr>\n",
       "    <tr>\n",
       "      <th>313</th>\n",
       "      <td>134</td>\n",
       "      <td>George Kittle</td>\n",
       "      <td>TE</td>\n",
       "      <td>2018</td>\n",
       "      <td>54</td>\n",
       "      <td>170.7</td>\n",
       "    </tr>\n",
       "  </tbody>\n",
       "</table>\n",
       "</div>"
      ],
      "text/plain": [
       "      Pick            Name Position  Year  Rank  Points\n",
       "1073    23    Jimmy Graham       TE  2013    26   217.5\n",
       "213     34    Travis Kelce       TE  2018    41   191.6\n",
       "918     31  Rob Gronkowski       TE  2014    40   184.4\n",
       "720     13  Rob Gronkowski       TE  2015    41   183.6\n",
       "313    134   George Kittle       TE  2018    54   170.7"
      ]
     },
     "execution_count": 68,
     "metadata": {},
     "output_type": "execute_result"
    }
   ],
   "source": [
    "te_data.head()"
   ]
  },
  {
   "cell_type": "code",
   "execution_count": 69,
   "metadata": {},
   "outputs": [],
   "source": [
    "k_data = data_1[data_1.Position == 'K']\n",
    "k_data = k_data.sort_values(by=['Points'], ascending = False)"
   ]
  },
  {
   "cell_type": "code",
   "execution_count": 70,
   "metadata": {},
   "outputs": [
    {
     "data": {
      "text/html": [
       "<div>\n",
       "<style scoped>\n",
       "    .dataframe tbody tr th:only-of-type {\n",
       "        vertical-align: middle;\n",
       "    }\n",
       "\n",
       "    .dataframe tbody tr th {\n",
       "        vertical-align: top;\n",
       "    }\n",
       "\n",
       "    .dataframe thead th {\n",
       "        text-align: right;\n",
       "    }\n",
       "</style>\n",
       "<table border=\"1\" class=\"dataframe\">\n",
       "  <thead>\n",
       "    <tr style=\"text-align: right;\">\n",
       "      <th></th>\n",
       "      <th>Pick</th>\n",
       "      <th>Name</th>\n",
       "      <th>Position</th>\n",
       "      <th>Year</th>\n",
       "      <th>Rank</th>\n",
       "      <th>Points</th>\n",
       "    </tr>\n",
       "  </thead>\n",
       "  <tbody>\n",
       "    <tr>\n",
       "      <th>1194</th>\n",
       "      <td>144</td>\n",
       "      <td>Stephen Gostkowski</td>\n",
       "      <td>K</td>\n",
       "      <td>2013</td>\n",
       "      <td>50</td>\n",
       "      <td>176.0</td>\n",
       "    </tr>\n",
       "    <tr>\n",
       "      <th>704</th>\n",
       "      <td>165</td>\n",
       "      <td>Justin Tucker</td>\n",
       "      <td>K</td>\n",
       "      <td>2016</td>\n",
       "      <td>48</td>\n",
       "      <td>175.0</td>\n",
       "    </tr>\n",
       "    <tr>\n",
       "      <th>510</th>\n",
       "      <td>151</td>\n",
       "      <td>Stephen Gostkowski</td>\n",
       "      <td>K</td>\n",
       "      <td>2017</td>\n",
       "      <td>43</td>\n",
       "      <td>172.0</td>\n",
       "    </tr>\n",
       "    <tr>\n",
       "      <th>858</th>\n",
       "      <td>151</td>\n",
       "      <td>Stephen Gostkowski</td>\n",
       "      <td>K</td>\n",
       "      <td>2015</td>\n",
       "      <td>49</td>\n",
       "      <td>171.0</td>\n",
       "    </tr>\n",
       "    <tr>\n",
       "      <th>1211</th>\n",
       "      <td>161</td>\n",
       "      <td>Matt Prater</td>\n",
       "      <td>K</td>\n",
       "      <td>2013</td>\n",
       "      <td>59</td>\n",
       "      <td>169.0</td>\n",
       "    </tr>\n",
       "  </tbody>\n",
       "</table>\n",
       "</div>"
      ],
      "text/plain": [
       "      Pick                Name Position  Year  Rank  Points\n",
       "1194   144  Stephen Gostkowski        K  2013    50   176.0\n",
       "704    165       Justin Tucker        K  2016    48   175.0\n",
       "510    151  Stephen Gostkowski        K  2017    43   172.0\n",
       "858    151  Stephen Gostkowski        K  2015    49   171.0\n",
       "1211   161         Matt Prater        K  2013    59   169.0"
      ]
     },
     "execution_count": 70,
     "metadata": {},
     "output_type": "execute_result"
    }
   ],
   "source": [
    "k_data.head()"
   ]
  },
  {
   "cell_type": "code",
   "execution_count": 71,
   "metadata": {},
   "outputs": [],
   "source": [
    "dst_data = data_1[data_1.Position == 'DST']\n",
    "dst_data = dst_data.sort_values(by=['Points'], ascending = False)"
   ]
  },
  {
   "cell_type": "code",
   "execution_count": 72,
   "metadata": {},
   "outputs": [
    {
     "data": {
      "text/html": [
       "<div>\n",
       "<style scoped>\n",
       "    .dataframe tbody tr th:only-of-type {\n",
       "        vertical-align: middle;\n",
       "    }\n",
       "\n",
       "    .dataframe tbody tr th {\n",
       "        vertical-align: top;\n",
       "    }\n",
       "\n",
       "    .dataframe thead th {\n",
       "        text-align: right;\n",
       "    }\n",
       "</style>\n",
       "<table border=\"1\" class=\"dataframe\">\n",
       "  <thead>\n",
       "    <tr style=\"text-align: right;\">\n",
       "      <th></th>\n",
       "      <th>Pick</th>\n",
       "      <th>Name</th>\n",
       "      <th>Position</th>\n",
       "      <th>Year</th>\n",
       "      <th>Rank</th>\n",
       "      <th>Points</th>\n",
       "    </tr>\n",
       "  </thead>\n",
       "  <tbody>\n",
       "    <tr>\n",
       "      <th>151</th>\n",
       "      <td>152</td>\n",
       "      <td>New England Defense</td>\n",
       "      <td>DST</td>\n",
       "      <td>2019</td>\n",
       "      <td>25</td>\n",
       "      <td>236.0</td>\n",
       "    </tr>\n",
       "    <tr>\n",
       "      <th>1142</th>\n",
       "      <td>92</td>\n",
       "      <td>Seattle Defense</td>\n",
       "      <td>DST</td>\n",
       "      <td>2013</td>\n",
       "      <td>28</td>\n",
       "      <td>213.0</td>\n",
       "    </tr>\n",
       "    <tr>\n",
       "      <th>1168</th>\n",
       "      <td>118</td>\n",
       "      <td>Cincinnati Defense</td>\n",
       "      <td>DST</td>\n",
       "      <td>2013</td>\n",
       "      <td>43</td>\n",
       "      <td>189.0</td>\n",
       "    </tr>\n",
       "    <tr>\n",
       "      <th>855</th>\n",
       "      <td>148</td>\n",
       "      <td>Denver Defense</td>\n",
       "      <td>DST</td>\n",
       "      <td>2015</td>\n",
       "      <td>38</td>\n",
       "      <td>187.0</td>\n",
       "    </tr>\n",
       "    <tr>\n",
       "      <th>877</th>\n",
       "      <td>170</td>\n",
       "      <td>Kansas City Defense</td>\n",
       "      <td>DST</td>\n",
       "      <td>2015</td>\n",
       "      <td>39</td>\n",
       "      <td>186.0</td>\n",
       "    </tr>\n",
       "  </tbody>\n",
       "</table>\n",
       "</div>"
      ],
      "text/plain": [
       "      Pick                 Name Position  Year  Rank  Points\n",
       "151    152  New England Defense      DST  2019    25   236.0\n",
       "1142    92      Seattle Defense      DST  2013    28   213.0\n",
       "1168   118   Cincinnati Defense      DST  2013    43   189.0\n",
       "855    148       Denver Defense      DST  2015    38   187.0\n",
       "877    170  Kansas City Defense      DST  2015    39   186.0"
      ]
     },
     "execution_count": 72,
     "metadata": {},
     "output_type": "execute_result"
    }
   ],
   "source": [
    "dst_data.head()"
   ]
  },
  {
   "cell_type": "code",
   "execution_count": 73,
   "metadata": {},
   "outputs": [],
   "source": [
    "# Export all the data to csv\n",
    "rb_data.to_csv('RB Data.csv', index=False)\n",
    "wr_data.to_csv('WR Data.csv', index=False)\n",
    "qb_data.to_csv('QB Data.csv', index=False)\n",
    "te_data.to_csv('TE Data.csv', index=False)\n",
    "k_data.to_csv('K Data.csv', index=False)\n",
    "dst_data.to_csv('DST Data.csv', index=False)"
   ]
  },
  {
   "cell_type": "markdown",
   "metadata": {},
   "source": [
    "## Final Visual"
   ]
  },
  {
   "cell_type": "code",
   "execution_count": 74,
   "metadata": {},
   "outputs": [
    {
     "data": {
      "text/plain": [
       "(1376, 6)"
      ]
     },
     "execution_count": 74,
     "metadata": {},
     "output_type": "execute_result"
    }
   ],
   "source": [
    "# Shape of table for last visual\n",
    "data_1.shape"
   ]
  },
  {
   "cell_type": "code",
   "execution_count": 75,
   "metadata": {},
   "outputs": [],
   "source": [
    "# Collect the average for each pick over the last 8 years grouped into Pick number. \n",
    "avg = []\n",
    "for i in range(1,181):\n",
    "    avg.append(data_1.loc[data_1['Pick'] == i, 'Points'].mean())"
   ]
  },
  {
   "cell_type": "code",
   "execution_count": 76,
   "metadata": {},
   "outputs": [
    {
     "data": {
      "text/plain": [
       "180"
      ]
     },
     "execution_count": 76,
     "metadata": {},
     "output_type": "execute_result"
    }
   ],
   "source": [
    "# Just to prove we have 180 rows in the list, proving an average data point for each pick in the draft. \n",
    "len(avg)"
   ]
  },
  {
   "cell_type": "code",
   "execution_count": 77,
   "metadata": {},
   "outputs": [
    {
     "data": {
      "text/plain": [
       "[197.52500000000003,\n",
       " 134.4375,\n",
       " 219.5625,\n",
       " 208.275,\n",
       " 178.97500000000002,\n",
       " 232.675,\n",
       " 151.5625,\n",
       " 170.78750000000002,\n",
       " 171.54999999999998,\n",
       " 164.9,\n",
       " 183.07500000000002,\n",
       " 188.5625,\n",
       " 153.47500000000002,\n",
       " 167.6375,\n",
       " 186.1625,\n",
       " 138.58749999999998,\n",
       " 142.9125,\n",
       " 194.88750000000002,\n",
       " 202.05,\n",
       " 171.61249999999998,\n",
       " 172.025,\n",
       " 133.75,\n",
       " 182.3375,\n",
       " 145.9375,\n",
       " 135.5375,\n",
       " 183.83749999999998,\n",
       " 167.3375,\n",
       " 189.3,\n",
       " 162.86249999999998,\n",
       " 108.275,\n",
       " 162.02499999999998,\n",
       " 165.61249999999998,\n",
       " 177.72500000000002,\n",
       " 132.1625,\n",
       " 127.625,\n",
       " 142.13750000000002,\n",
       " 144.975,\n",
       " 132.175,\n",
       " 136.525,\n",
       " 122.8375,\n",
       " 127.08749999999999,\n",
       " 163.39999999999998,\n",
       " 144.075,\n",
       " 137.11249999999998,\n",
       " 92.97500000000001,\n",
       " 106.39999999999999,\n",
       " 142.4875,\n",
       " 120.67499999999998,\n",
       " 174.95000000000002,\n",
       " 126.45,\n",
       " 147.075,\n",
       " 149.925,\n",
       " 103.16250000000001,\n",
       " 142.20000000000002,\n",
       " 152.0375,\n",
       " 136.275,\n",
       " 103.23749999999998,\n",
       " 146.07500000000002,\n",
       " 176.475,\n",
       " 100.71249999999999,\n",
       " 142.3625,\n",
       " 120.4125,\n",
       " 93.41250000000001,\n",
       " 173.675,\n",
       " 250.20000000000002,\n",
       " 103.25000000000001,\n",
       " 102.15000000000002,\n",
       " 149.96249999999998,\n",
       " 132.05,\n",
       " 103.15,\n",
       " 105.97500000000001,\n",
       " 160.8875,\n",
       " 112.58749999999999,\n",
       " 124.55000000000001,\n",
       " 110.925,\n",
       " 93.97500000000001,\n",
       " 120.83749999999999,\n",
       " 107.35000000000002,\n",
       " 121.8375,\n",
       " 81.2375,\n",
       " 111.56249999999999,\n",
       " 137.6125,\n",
       " 116.2125,\n",
       " 160.55,\n",
       " 127.06249999999999,\n",
       " 103.13749999999999,\n",
       " 122.25000000000001,\n",
       " 92.26249999999999,\n",
       " 110.26249999999999,\n",
       " 141.93749999999997,\n",
       " 183.3,\n",
       " 111.1875,\n",
       " 96.47500000000001,\n",
       " 95.8125,\n",
       " 107.5125,\n",
       " 103.53750000000001,\n",
       " 120.675,\n",
       " 115.3375,\n",
       " 101.4,\n",
       " 69.0875,\n",
       " 115.25,\n",
       " 115.92499999999998,\n",
       " 144.925,\n",
       " 124.64999999999999,\n",
       " 108.7125,\n",
       " 77.9875,\n",
       " 173.28750000000002,\n",
       " 132.65,\n",
       " 140.425,\n",
       " 128.225,\n",
       " 113.25,\n",
       " 146.27499999999998,\n",
       " 130.17499999999998,\n",
       " 125.925,\n",
       " 84.9125,\n",
       " 106.35,\n",
       " 193.0875,\n",
       " 153.2,\n",
       " 102.0875,\n",
       " 131.91250000000002,\n",
       " 106.57499999999999,\n",
       " 131.7875,\n",
       " 97.3,\n",
       " 76.1,\n",
       " 104.91250000000001,\n",
       " 104.32499999999999,\n",
       " 69.3625,\n",
       " 125.23749999999998,\n",
       " 180.5625,\n",
       " 83.53750000000001,\n",
       " 142.21249999999998,\n",
       " 81.6,\n",
       " 104.55000000000001,\n",
       " 85.225,\n",
       " 125.30000000000001,\n",
       " 118.07499999999999,\n",
       " 100.4875,\n",
       " 114.52499999999999,\n",
       " 98.73750000000001,\n",
       " 112.0375,\n",
       " 80.225,\n",
       " 83.8375,\n",
       " 88.5125,\n",
       " 105.85000000000001,\n",
       " 163.175,\n",
       " 120.21428571428571,\n",
       " 74.10000000000001,\n",
       " 121.45714285714287,\n",
       " 104.95714285714287,\n",
       " 81.20000000000002,\n",
       " 122.54285714285713,\n",
       " 111.0,\n",
       " 114.68571428571428,\n",
       " 84.3,\n",
       " 122.95714285714287,\n",
       " 104.62857142857142,\n",
       " 87.14285714285714,\n",
       " 86.48571428571428,\n",
       " 79.7,\n",
       " 122.7142857142857,\n",
       " 121.89999999999999,\n",
       " 101.65714285714286,\n",
       " 101.78571428571429,\n",
       " 49.65,\n",
       " 99.36666666666667,\n",
       " 117.51666666666667,\n",
       " 74.73333333333333,\n",
       " 76.93333333333332,\n",
       " 57.9,\n",
       " 138.12,\n",
       " 123.1,\n",
       " 29.540000000000003,\n",
       " 97.64,\n",
       " 101.66,\n",
       " 120.8,\n",
       " 78.96,\n",
       " 109.8,\n",
       " 141.52,\n",
       " 107.2,\n",
       " 80.96]"
      ]
     },
     "execution_count": 77,
     "metadata": {},
     "output_type": "execute_result"
    }
   ],
   "source": [
    "avg"
   ]
  },
  {
   "cell_type": "code",
   "execution_count": 78,
   "metadata": {},
   "outputs": [],
   "source": [
    "# Create a new dataframe for the last visual\n",
    "data_2 = pd.DataFrame(avg, columns=['AVG Points per Pick'])"
   ]
  },
  {
   "cell_type": "code",
   "execution_count": 79,
   "metadata": {},
   "outputs": [],
   "source": [
    "# Add another column for the picks. \n",
    "data_2['Pick'] = data_2.index + 1"
   ]
  },
  {
   "cell_type": "code",
   "execution_count": 80,
   "metadata": {},
   "outputs": [
    {
     "data": {
      "text/html": [
       "<div>\n",
       "<style scoped>\n",
       "    .dataframe tbody tr th:only-of-type {\n",
       "        vertical-align: middle;\n",
       "    }\n",
       "\n",
       "    .dataframe tbody tr th {\n",
       "        vertical-align: top;\n",
       "    }\n",
       "\n",
       "    .dataframe thead th {\n",
       "        text-align: right;\n",
       "    }\n",
       "</style>\n",
       "<table border=\"1\" class=\"dataframe\">\n",
       "  <thead>\n",
       "    <tr style=\"text-align: right;\">\n",
       "      <th></th>\n",
       "      <th>AVG Points per Pick</th>\n",
       "      <th>Pick</th>\n",
       "    </tr>\n",
       "  </thead>\n",
       "  <tbody>\n",
       "    <tr>\n",
       "      <th>0</th>\n",
       "      <td>197.5250</td>\n",
       "      <td>1</td>\n",
       "    </tr>\n",
       "    <tr>\n",
       "      <th>1</th>\n",
       "      <td>134.4375</td>\n",
       "      <td>2</td>\n",
       "    </tr>\n",
       "    <tr>\n",
       "      <th>2</th>\n",
       "      <td>219.5625</td>\n",
       "      <td>3</td>\n",
       "    </tr>\n",
       "    <tr>\n",
       "      <th>3</th>\n",
       "      <td>208.2750</td>\n",
       "      <td>4</td>\n",
       "    </tr>\n",
       "    <tr>\n",
       "      <th>4</th>\n",
       "      <td>178.9750</td>\n",
       "      <td>5</td>\n",
       "    </tr>\n",
       "  </tbody>\n",
       "</table>\n",
       "</div>"
      ],
      "text/plain": [
       "   AVG Points per Pick  Pick\n",
       "0             197.5250     1\n",
       "1             134.4375     2\n",
       "2             219.5625     3\n",
       "3             208.2750     4\n",
       "4             178.9750     5"
      ]
     },
     "execution_count": 80,
     "metadata": {},
     "output_type": "execute_result"
    }
   ],
   "source": [
    "data_2.head()"
   ]
  },
  {
   "cell_type": "code",
   "execution_count": 81,
   "metadata": {},
   "outputs": [],
   "source": [
    "data_2['Round AVG'] = ''"
   ]
  },
  {
   "cell_type": "code",
   "execution_count": 82,
   "metadata": {},
   "outputs": [
    {
     "data": {
      "text/html": [
       "<div>\n",
       "<style scoped>\n",
       "    .dataframe tbody tr th:only-of-type {\n",
       "        vertical-align: middle;\n",
       "    }\n",
       "\n",
       "    .dataframe tbody tr th {\n",
       "        vertical-align: top;\n",
       "    }\n",
       "\n",
       "    .dataframe thead th {\n",
       "        text-align: right;\n",
       "    }\n",
       "</style>\n",
       "<table border=\"1\" class=\"dataframe\">\n",
       "  <thead>\n",
       "    <tr style=\"text-align: right;\">\n",
       "      <th></th>\n",
       "      <th>AVG Points per Pick</th>\n",
       "      <th>Pick</th>\n",
       "      <th>Round AVG</th>\n",
       "    </tr>\n",
       "  </thead>\n",
       "  <tbody>\n",
       "    <tr>\n",
       "      <th>0</th>\n",
       "      <td>197.5250</td>\n",
       "      <td>1</td>\n",
       "      <td></td>\n",
       "    </tr>\n",
       "    <tr>\n",
       "      <th>1</th>\n",
       "      <td>134.4375</td>\n",
       "      <td>2</td>\n",
       "      <td></td>\n",
       "    </tr>\n",
       "    <tr>\n",
       "      <th>2</th>\n",
       "      <td>219.5625</td>\n",
       "      <td>3</td>\n",
       "      <td></td>\n",
       "    </tr>\n",
       "    <tr>\n",
       "      <th>3</th>\n",
       "      <td>208.2750</td>\n",
       "      <td>4</td>\n",
       "      <td></td>\n",
       "    </tr>\n",
       "    <tr>\n",
       "      <th>4</th>\n",
       "      <td>178.9750</td>\n",
       "      <td>5</td>\n",
       "      <td></td>\n",
       "    </tr>\n",
       "  </tbody>\n",
       "</table>\n",
       "</div>"
      ],
      "text/plain": [
       "   AVG Points per Pick  Pick Round AVG\n",
       "0             197.5250     1          \n",
       "1             134.4375     2          \n",
       "2             219.5625     3          \n",
       "3             208.2750     4          \n",
       "4             178.9750     5          "
      ]
     },
     "execution_count": 82,
     "metadata": {},
     "output_type": "execute_result"
    }
   ],
   "source": [
    "data_2.head()"
   ]
  },
  {
   "cell_type": "code",
   "execution_count": 83,
   "metadata": {},
   "outputs": [],
   "source": [
    "# Add the column of the averages calculated before to each. \n",
    "for i in range(0,12):\n",
    "    data_2.loc[[i],'Round AVG'] = 183.6"
   ]
  },
  {
   "cell_type": "code",
   "execution_count": 84,
   "metadata": {},
   "outputs": [],
   "source": [
    "for i in range(12,24):\n",
    "    data_2.loc[[i],'Round AVG'] = 165.9"
   ]
  },
  {
   "cell_type": "code",
   "execution_count": 85,
   "metadata": {},
   "outputs": [],
   "source": [
    "for i in range(24,36):\n",
    "    data_2.loc[[i],'Round AVG'] = 154.5"
   ]
  },
  {
   "cell_type": "code",
   "execution_count": 86,
   "metadata": {},
   "outputs": [],
   "source": [
    "for i in range(36,48):\n",
    "    data_2.loc[[i],'Round AVG'] = 130.9"
   ]
  },
  {
   "cell_type": "code",
   "execution_count": 87,
   "metadata": {},
   "outputs": [],
   "source": [
    "for i in range(48,60):\n",
    "    data_2.loc[[i],'Round AVG'] = 138.2"
   ]
  },
  {
   "cell_type": "code",
   "execution_count": 88,
   "metadata": {},
   "outputs": [],
   "source": [
    "for i in range(60,72):\n",
    "    data_2.loc[[i],'Round AVG'] = 136.5"
   ]
  },
  {
   "cell_type": "code",
   "execution_count": 89,
   "metadata": {},
   "outputs": [],
   "source": [
    "for i in range(72,84):\n",
    "    data_2.loc[[i],'Round AVG'] = 116.6"
   ]
  },
  {
   "cell_type": "code",
   "execution_count": 90,
   "metadata": {},
   "outputs": [],
   "source": [
    "for i in range(84,96):\n",
    "    data_2.loc[[i],'Round AVG'] = 116.2"
   ]
  },
  {
   "cell_type": "code",
   "execution_count": 91,
   "metadata": {},
   "outputs": [],
   "source": [
    "for i in range(96,108):\n",
    "    data_2.loc[[i],'Round AVG'] = 116.7"
   ]
  },
  {
   "cell_type": "code",
   "execution_count": 92,
   "metadata": {},
   "outputs": [],
   "source": [
    "for i in range(108,120):\n",
    "    data_2.loc[[i],'Round AVG'] = 129.7"
   ]
  },
  {
   "cell_type": "code",
   "execution_count": 93,
   "metadata": {},
   "outputs": [],
   "source": [
    "for i in range(120,132):\n",
    "    data_2.loc[[i],'Round AVG'] = 108.6"
   ]
  },
  {
   "cell_type": "code",
   "execution_count": 94,
   "metadata": {},
   "outputs": [],
   "source": [
    "for i in range(132,144):\n",
    "    data_2.loc[[i],'Round AVG'] = 101.4"
   ]
  },
  {
   "cell_type": "code",
   "execution_count": 95,
   "metadata": {},
   "outputs": [],
   "source": [
    "for i in range(144,156):\n",
    "    data_2.loc[[i],'Round AVG'] = 110.8"
   ]
  },
  {
   "cell_type": "code",
   "execution_count": 96,
   "metadata": {},
   "outputs": [],
   "source": [
    "for i in range(156,168):\n",
    "    data_2.loc[[i],'Round AVG'] = 93.3"
   ]
  },
  {
   "cell_type": "code",
   "execution_count": 97,
   "metadata": {},
   "outputs": [],
   "source": [
    "for i in range(168,180):\n",
    "    data_2.loc[[i],'Round AVG'] = 99.1"
   ]
  },
  {
   "cell_type": "code",
   "execution_count": 98,
   "metadata": {},
   "outputs": [
    {
     "data": {
      "text/html": [
       "<div>\n",
       "<style scoped>\n",
       "    .dataframe tbody tr th:only-of-type {\n",
       "        vertical-align: middle;\n",
       "    }\n",
       "\n",
       "    .dataframe tbody tr th {\n",
       "        vertical-align: top;\n",
       "    }\n",
       "\n",
       "    .dataframe thead th {\n",
       "        text-align: right;\n",
       "    }\n",
       "</style>\n",
       "<table border=\"1\" class=\"dataframe\">\n",
       "  <thead>\n",
       "    <tr style=\"text-align: right;\">\n",
       "      <th></th>\n",
       "      <th>AVG Points per Pick</th>\n",
       "      <th>Pick</th>\n",
       "      <th>Round AVG</th>\n",
       "    </tr>\n",
       "  </thead>\n",
       "  <tbody>\n",
       "    <tr>\n",
       "      <th>0</th>\n",
       "      <td>197.5250</td>\n",
       "      <td>1</td>\n",
       "      <td>183.6</td>\n",
       "    </tr>\n",
       "    <tr>\n",
       "      <th>1</th>\n",
       "      <td>134.4375</td>\n",
       "      <td>2</td>\n",
       "      <td>183.6</td>\n",
       "    </tr>\n",
       "    <tr>\n",
       "      <th>2</th>\n",
       "      <td>219.5625</td>\n",
       "      <td>3</td>\n",
       "      <td>183.6</td>\n",
       "    </tr>\n",
       "    <tr>\n",
       "      <th>3</th>\n",
       "      <td>208.2750</td>\n",
       "      <td>4</td>\n",
       "      <td>183.6</td>\n",
       "    </tr>\n",
       "    <tr>\n",
       "      <th>4</th>\n",
       "      <td>178.9750</td>\n",
       "      <td>5</td>\n",
       "      <td>183.6</td>\n",
       "    </tr>\n",
       "  </tbody>\n",
       "</table>\n",
       "</div>"
      ],
      "text/plain": [
       "   AVG Points per Pick  Pick Round AVG\n",
       "0             197.5250     1     183.6\n",
       "1             134.4375     2     183.6\n",
       "2             219.5625     3     183.6\n",
       "3             208.2750     4     183.6\n",
       "4             178.9750     5     183.6"
      ]
     },
     "execution_count": 98,
     "metadata": {},
     "output_type": "execute_result"
    }
   ],
   "source": [
    "data_2.head()"
   ]
  },
  {
   "cell_type": "code",
   "execution_count": 99,
   "metadata": {},
   "outputs": [],
   "source": [
    "# Export it to a csv\n",
    "data_2.to_csv('Final Data.csv', index=False)"
   ]
  },
  {
   "cell_type": "code",
   "execution_count": 100,
   "metadata": {},
   "outputs": [
    {
     "data": {
      "text/html": [
       "<div>\n",
       "<style scoped>\n",
       "    .dataframe tbody tr th:only-of-type {\n",
       "        vertical-align: middle;\n",
       "    }\n",
       "\n",
       "    .dataframe tbody tr th {\n",
       "        vertical-align: top;\n",
       "    }\n",
       "\n",
       "    .dataframe thead th {\n",
       "        text-align: right;\n",
       "    }\n",
       "</style>\n",
       "<table border=\"1\" class=\"dataframe\">\n",
       "  <thead>\n",
       "    <tr style=\"text-align: right;\">\n",
       "      <th></th>\n",
       "      <th>Pick</th>\n",
       "      <th>Name</th>\n",
       "      <th>Position</th>\n",
       "      <th>Year</th>\n",
       "      <th>Rank</th>\n",
       "      <th>Points</th>\n",
       "    </tr>\n",
       "  </thead>\n",
       "  <tbody>\n",
       "    <tr>\n",
       "      <th>64</th>\n",
       "      <td>65</td>\n",
       "      <td>Matt Ryan</td>\n",
       "      <td>QB</td>\n",
       "      <td>2019</td>\n",
       "      <td>12</td>\n",
       "      <td>281.4</td>\n",
       "    </tr>\n",
       "    <tr>\n",
       "      <th>244</th>\n",
       "      <td>65</td>\n",
       "      <td>Drew Brees</td>\n",
       "      <td>QB</td>\n",
       "      <td>2018</td>\n",
       "      <td>9</td>\n",
       "      <td>303.8</td>\n",
       "    </tr>\n",
       "    <tr>\n",
       "      <th>424</th>\n",
       "      <td>65</td>\n",
       "      <td>Russell Wilson</td>\n",
       "      <td>QB</td>\n",
       "      <td>2017</td>\n",
       "      <td>1</td>\n",
       "      <td>347.8</td>\n",
       "    </tr>\n",
       "    <tr>\n",
       "      <th>604</th>\n",
       "      <td>65</td>\n",
       "      <td>Frank Gore</td>\n",
       "      <td>RB</td>\n",
       "      <td>2016</td>\n",
       "      <td>46</td>\n",
       "      <td>176.3</td>\n",
       "    </tr>\n",
       "    <tr>\n",
       "      <th>772</th>\n",
       "      <td>65</td>\n",
       "      <td>Tom Brady</td>\n",
       "      <td>QB</td>\n",
       "      <td>2015</td>\n",
       "      <td>2</td>\n",
       "      <td>343.7</td>\n",
       "    </tr>\n",
       "    <tr>\n",
       "      <th>952</th>\n",
       "      <td>65</td>\n",
       "      <td>Matt Ryan</td>\n",
       "      <td>QB</td>\n",
       "      <td>2014</td>\n",
       "      <td>9</td>\n",
       "      <td>284.0</td>\n",
       "    </tr>\n",
       "    <tr>\n",
       "      <th>1115</th>\n",
       "      <td>65</td>\n",
       "      <td>T.Y. Hilton</td>\n",
       "      <td>WR</td>\n",
       "      <td>2013</td>\n",
       "      <td>93</td>\n",
       "      <td>138.9</td>\n",
       "    </tr>\n",
       "    <tr>\n",
       "      <th>1295</th>\n",
       "      <td>65</td>\n",
       "      <td>Jeremy Maclin</td>\n",
       "      <td>WR</td>\n",
       "      <td>2012</td>\n",
       "      <td>116</td>\n",
       "      <td>125.7</td>\n",
       "    </tr>\n",
       "  </tbody>\n",
       "</table>\n",
       "</div>"
      ],
      "text/plain": [
       "      Pick            Name Position  Year  Rank  Points\n",
       "64      65       Matt Ryan       QB  2019    12   281.4\n",
       "244     65      Drew Brees       QB  2018     9   303.8\n",
       "424     65  Russell Wilson       QB  2017     1   347.8\n",
       "604     65      Frank Gore       RB  2016    46   176.3\n",
       "772     65       Tom Brady       QB  2015     2   343.7\n",
       "952     65       Matt Ryan       QB  2014     9   284.0\n",
       "1115    65     T.Y. Hilton       WR  2013    93   138.9\n",
       "1295    65   Jeremy Maclin       WR  2012   116   125.7"
      ]
     },
     "execution_count": 100,
     "metadata": {},
     "output_type": "execute_result"
    }
   ],
   "source": [
    "# Pick 65 is a large outlier so just seeing what's in it to make sure it's accurate\n",
    "data_1.loc[data_1['Pick'] == 65]"
   ]
  },
  {
   "cell_type": "code",
   "execution_count": 101,
   "metadata": {},
   "outputs": [
    {
     "data": {
      "text/html": [
       "<div>\n",
       "<style scoped>\n",
       "    .dataframe tbody tr th:only-of-type {\n",
       "        vertical-align: middle;\n",
       "    }\n",
       "\n",
       "    .dataframe tbody tr th {\n",
       "        vertical-align: top;\n",
       "    }\n",
       "\n",
       "    .dataframe thead th {\n",
       "        text-align: right;\n",
       "    }\n",
       "</style>\n",
       "<table border=\"1\" class=\"dataframe\">\n",
       "  <thead>\n",
       "    <tr style=\"text-align: right;\">\n",
       "      <th></th>\n",
       "      <th>Pick</th>\n",
       "      <th>Name</th>\n",
       "      <th>Position</th>\n",
       "      <th>Year</th>\n",
       "      <th>Rank</th>\n",
       "      <th>Points</th>\n",
       "    </tr>\n",
       "  </thead>\n",
       "  <tbody>\n",
       "    <tr>\n",
       "      <th>0</th>\n",
       "      <td>1</td>\n",
       "      <td>Saquon Barkley</td>\n",
       "      <td>RB</td>\n",
       "      <td>2019</td>\n",
       "      <td>40</td>\n",
       "      <td>192.1</td>\n",
       "    </tr>\n",
       "    <tr>\n",
       "      <th>1</th>\n",
       "      <td>2</td>\n",
       "      <td>Alvin Kamara</td>\n",
       "      <td>RB</td>\n",
       "      <td>2019</td>\n",
       "      <td>54</td>\n",
       "      <td>167.5</td>\n",
       "    </tr>\n",
       "    <tr>\n",
       "      <th>2</th>\n",
       "      <td>3</td>\n",
       "      <td>Christian McCaffrey</td>\n",
       "      <td>RB</td>\n",
       "      <td>2019</td>\n",
       "      <td>2</td>\n",
       "      <td>355.2</td>\n",
       "    </tr>\n",
       "    <tr>\n",
       "      <th>3</th>\n",
       "      <td>4</td>\n",
       "      <td>Ezekiel Elliott</td>\n",
       "      <td>RB</td>\n",
       "      <td>2019</td>\n",
       "      <td>18</td>\n",
       "      <td>257.7</td>\n",
       "    </tr>\n",
       "    <tr>\n",
       "      <th>4</th>\n",
       "      <td>5</td>\n",
       "      <td>James Conner</td>\n",
       "      <td>RB</td>\n",
       "      <td>2019</td>\n",
       "      <td>139</td>\n",
       "      <td>111.5</td>\n",
       "    </tr>\n",
       "    <tr>\n",
       "      <th>...</th>\n",
       "      <td>...</td>\n",
       "      <td>...</td>\n",
       "      <td>...</td>\n",
       "      <td>...</td>\n",
       "      <td>...</td>\n",
       "      <td>...</td>\n",
       "    </tr>\n",
       "    <tr>\n",
       "      <th>176</th>\n",
       "      <td>177</td>\n",
       "      <td>Tre'Quan Smith</td>\n",
       "      <td>WR</td>\n",
       "      <td>2019</td>\n",
       "      <td>270</td>\n",
       "      <td>53.4</td>\n",
       "    </tr>\n",
       "    <tr>\n",
       "      <th>177</th>\n",
       "      <td>178</td>\n",
       "      <td>Philadelphia Defense</td>\n",
       "      <td>DST</td>\n",
       "      <td>2019</td>\n",
       "      <td>145</td>\n",
       "      <td>109.0</td>\n",
       "    </tr>\n",
       "    <tr>\n",
       "      <th>178</th>\n",
       "      <td>179</td>\n",
       "      <td>Deebo Samuel</td>\n",
       "      <td>WR</td>\n",
       "      <td>2019</td>\n",
       "      <td>102</td>\n",
       "      <td>132.1</td>\n",
       "    </tr>\n",
       "    <tr>\n",
       "      <th>179</th>\n",
       "      <td>180</td>\n",
       "      <td>Miles Boykin</td>\n",
       "      <td>WR</td>\n",
       "      <td>2019</td>\n",
       "      <td>320</td>\n",
       "      <td>37.8</td>\n",
       "    </tr>\n",
       "    <tr>\n",
       "      <th>180</th>\n",
       "      <td>1</td>\n",
       "      <td>Todd Gurley</td>\n",
       "      <td>RB</td>\n",
       "      <td>2018</td>\n",
       "      <td>6</td>\n",
       "      <td>313.1</td>\n",
       "    </tr>\n",
       "  </tbody>\n",
       "</table>\n",
       "<p>181 rows × 6 columns</p>\n",
       "</div>"
      ],
      "text/plain": [
       "     Pick                  Name Position  Year  Rank  Points\n",
       "0       1        Saquon Barkley       RB  2019    40   192.1\n",
       "1       2          Alvin Kamara       RB  2019    54   167.5\n",
       "2       3   Christian McCaffrey       RB  2019     2   355.2\n",
       "3       4       Ezekiel Elliott       RB  2019    18   257.7\n",
       "4       5          James Conner       RB  2019   139   111.5\n",
       "..    ...                   ...      ...   ...   ...     ...\n",
       "176   177        Tre'Quan Smith       WR  2019   270    53.4\n",
       "177   178  Philadelphia Defense      DST  2019   145   109.0\n",
       "178   179          Deebo Samuel       WR  2019   102   132.1\n",
       "179   180          Miles Boykin       WR  2019   320    37.8\n",
       "180     1           Todd Gurley       RB  2018     6   313.1\n",
       "\n",
       "[181 rows x 6 columns]"
      ]
     },
     "execution_count": 101,
     "metadata": {},
     "output_type": "execute_result"
    }
   ],
   "source": [
    "data_1.head(181)"
   ]
  },
  {
   "cell_type": "code",
   "execution_count": null,
   "metadata": {},
   "outputs": [],
   "source": []
  }
 ],
 "metadata": {
  "kernelspec": {
   "display_name": "Python 3",
   "language": "python",
   "name": "python3"
  },
  "language_info": {
   "codemirror_mode": {
    "name": "ipython",
    "version": 3
   },
   "file_extension": ".py",
   "mimetype": "text/x-python",
   "name": "python",
   "nbconvert_exporter": "python",
   "pygments_lexer": "ipython3",
   "version": "3.7.7"
  }
 },
 "nbformat": 4,
 "nbformat_minor": 4
}
